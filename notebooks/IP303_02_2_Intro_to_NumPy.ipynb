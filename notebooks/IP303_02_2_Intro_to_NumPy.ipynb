{
 "cells": [
  {
   "cell_type": "markdown",
   "id": "22715345-d737-479f-9013-2664d01729b2",
   "metadata": {},
   "source": [
    "# NumPy Fundamentals for Data Science – Jupyter Notebook Guide"
   ]
  },
  {
   "cell_type": "markdown",
   "id": "56c0c21a-3eb5-48fd-bb27-eb4bc60d8c1d",
   "metadata": {},
   "source": [
    "## Introduction to NumPy\n",
    "\n",
    "NumPy is a core library for scientific computing in Python. It allows you to work with large, multi-dimensional arrays and perform high-level mathematical operations efficiently."
   ]
  },
  {
   "cell_type": "markdown",
   "id": "e7a22fc6-c4c0-45ab-9070-a373500c6716",
   "metadata": {},
   "source": [
    "\n",
    "## Installing and Importing NumPy\n",
    "\n",
    "```python\n",
    "# Install NumPy if needed\n",
    "!pip install numpy\n",
    "```"
   ]
  },
  {
   "cell_type": "code",
   "execution_count": 1,
   "id": "089b80f8-459a-482b-a3a5-eaaea2e9e661",
   "metadata": {},
   "outputs": [],
   "source": [
    "# Import NumPy\n",
    "import numpy as np"
   ]
  },
  {
   "cell_type": "markdown",
   "id": "66a8fe8f-73c5-4020-ae88-60a4c69470f0",
   "metadata": {},
   "source": [
    "## Python Lists vs. NumPy Arrays"
   ]
  },
  {
   "cell_type": "code",
   "execution_count": 2,
   "id": "5a0c6c3d-ac2e-4422-9043-b4fdbf913320",
   "metadata": {},
   "outputs": [
    {
     "name": "stdout",
     "output_type": "stream",
     "text": [
      "List * 2: [1, 2, 3, 1, 2, 3]\n",
      "Array * 2: [2 4 6]\n"
     ]
    }
   ],
   "source": [
    "# Comparing Python list and NumPy array behavior\n",
    "my_list = [1, 2, 3]\n",
    "my_array = np.array([1, 2, 3])\n",
    "\n",
    "print(\"List * 2:\", my_list * 2)        # Repeats the list\n",
    "print(\"Array * 2:\", my_array * 2)      # Multiplies each element"
   ]
  },
  {
   "cell_type": "markdown",
   "id": "b8114dda-8ca8-4511-83ee-4eb7e04e9eeb",
   "metadata": {},
   "source": [
    "> NumPy arrays support element-wise operations, making them faster and more efficient for numerical tasks."
   ]
  },
  {
   "cell_type": "markdown",
   "id": "fa997918-49ed-44dc-8ff2-86717f5116fe",
   "metadata": {},
   "source": [
    "## Creating Arrays"
   ]
  },
  {
   "cell_type": "markdown",
   "id": "490fcd19-92c1-4822-9575-b577857c0429",
   "metadata": {},
   "source": [
    "NumPy provides several methods to create arrays:\n",
    "- `np.array()` creates an array from a list.\n",
    "- `np.zeros()` and `np.ones()` create arrays of zeros or ones.\n",
    "- `np.arange()` generates evenly spaced values within a range.\n",
    "- `np.linspace()` creates evenly spaced numbers over a specified interval.\n",
    "- `np.random.rand()` generates random values between 0 and 1.\n",
    "\n",
    "These tools allow flexible ways to initialize data for analysis or simulation."
   ]
  },
  {
   "cell_type": "code",
   "execution_count": 5,
   "id": "fe2f807d-d59a-4523-acd3-27bc74d364bf",
   "metadata": {},
   "outputs": [
    {
     "name": "stdout",
     "output_type": "stream",
     "text": [
      "[1 2 3]\n",
      "[[0. 0. 0.]\n",
      " [0. 0. 0.]]\n",
      "[1. 1. 1. 1. 1.]\n",
      "[0 2 4 6 8]\n",
      "[0.   0.25 0.5  0.75 1.  ]\n",
      "[[0.78799679 0.20580319 0.23940884 0.85849995]\n",
      " [0.277503   0.87401744 0.28678102 0.33413595]\n",
      " [0.08126722 0.6592306  0.76912676 0.38525132]]\n"
     ]
    }
   ],
   "source": [
    "# Various ways to create arrays\n",
    "print(np.array([1, 2, 3])  )               # Create from a list\n",
    "print(np.zeros((2, 3))  )                 # 2x3 array of zeros\n",
    "print(np.ones(5)  )                       # 1D array of ones\n",
    "print(np.arange(0, 10, 2))               # Evenly spaced values from 0 to 8\n",
    "print(np.linspace(0, 1, 5) )              # 5 values from 0 to 1 (inclusive)\n",
    "print(np.random.rand(3, 4))               # 3x4 array of random values between 0 and 1"
   ]
  },
  {
   "cell_type": "markdown",
   "id": "592e90c7-64b9-420d-9d94-04ec698fc1e6",
   "metadata": {},
   "source": [
    ">Tip: Choose the method based on the structure or range of data you want to initialize."
   ]
  },
  {
   "cell_type": "markdown",
   "id": "776b5be5-5427-463f-8353-1d481eded382",
   "metadata": {},
   "source": [
    "## Array Properties"
   ]
  },
  {
   "cell_type": "markdown",
   "id": "ba197852-2bc8-42de-9ce9-6e99a53555d9",
   "metadata": {},
   "source": [
    "Once you create an array, you can inspect its structure and characteristics:\n",
    "- `.shape`: returns a tuple representing array dimensions.\n",
    "- `.ndim`: number of dimensions (1D, 2D, etc.).\n",
    "- `.dtype`: data type of elements (e.g., int, float).\n",
    "\n",
    "Understanding these attributes is essential for manipulating and reshaping data."
   ]
  },
  {
   "cell_type": "code",
   "execution_count": 6,
   "id": "5c5e5a82-036c-4a37-b272-cf48cbf8c8cb",
   "metadata": {},
   "outputs": [
    {
     "name": "stdout",
     "output_type": "stream",
     "text": [
      "Shape: (3, 2)\n",
      "Dimensions: 2\n",
      "Data Type: int32\n"
     ]
    }
   ],
   "source": [
    "# Exploring array attributes\n",
    "array = np.array([[1, 2], [3, 4], [5, 6]])\n",
    "print(\"Shape:\", array.shape)       # (3, 2)\n",
    "print(\"Dimensions:\", array.ndim)   # 2D array\n",
    "print(\"Data Type:\", array.dtype)   # int64 (depends on values)"
   ]
  },
  {
   "cell_type": "markdown",
   "id": "c7dc1503-5f15-48b5-8f9c-a4adca861230",
   "metadata": {},
   "source": [
    "## Indexing and Slicing"
   ]
  },
  {
   "cell_type": "markdown",
   "id": "8135f8e5-a3e8-4fef-b942-7e93b62f80da",
   "metadata": {},
   "source": [
    "Accessing and selecting elements is key in data transformation:\n",
    "- Use `[index]` for single elements.\n",
    "- Use `[start:stop]` for slicing.\n",
    "- Use `[row, col]` for 2D arrays.\n",
    "- Use `:` to select full rows or columns."
   ]
  },
  {
   "cell_type": "code",
   "execution_count": 7,
   "id": "0be1f584-933a-4e56-a329-f767e7c054b4",
   "metadata": {},
   "outputs": [
    {
     "name": "stdout",
     "output_type": "stream",
     "text": [
      "10\n",
      "[20 30 40]\n",
      "50\n",
      "4\n",
      "3\n",
      "[2 5]\n"
     ]
    }
   ],
   "source": [
    "# Accessing elements in a 1D array\n",
    "a = np.array([10, 20, 30, 40, 50])\n",
    "print(a[0])           # First element\n",
    "print(a[1:4])         # Elements from index 1 to 3\n",
    "print(a[-1])          # Last element\n",
    "\n",
    "# Accessing elements in a 2D array\n",
    "b = np.array([[1, 2, 3], [4, 5, 6]])\n",
    "print(b[1][0])        # First element of second row\n",
    "print(b[0, 2])        # Third element of first row\n",
    "print(b[:, 1])        # Second column of all rows"
   ]
  },
  {
   "cell_type": "markdown",
   "id": "0156feb8-facb-4b92-b1c8-6f3266752396",
   "metadata": {},
   "source": [
    ">Slicing is very powerful for filtering rows, columns, or subarrays of interest."
   ]
  },
  {
   "cell_type": "markdown",
   "id": "74c41a06-950b-4913-8db1-55f6d5f2aebc",
   "metadata": {},
   "source": [
    "## Task 1: Temperature Data Analysis"
   ]
  },
  {
   "cell_type": "markdown",
   "id": "5754847c-3e22-4d1c-91e4-89adc682bf8a",
   "metadata": {},
   "source": [
    "**Instructions:**\n",
    "- Create a NumPy array with 7 daily temperature readings.\n",
    "- Use indexing and slicing to:\n",
    "  - Print weekday temperatures (Mon–Fri)\n",
    "  - Print weekend temperatures (Sat–Sun)\n",
    "- Find the highest and lowest temperatures using built-in functions."
   ]
  },
  {
   "cell_type": "code",
   "execution_count": 8,
   "id": "0c401397-714e-4579-879e-3e18f96046f7",
   "metadata": {},
   "outputs": [
    {
     "name": "stdout",
     "output_type": "stream",
     "text": [
      "Weekday temps: [22.5 23.1 21.8 24.  23.3]\n",
      "Weekend temps: [22.9 23.7]\n",
      "Max temp: 24.0\n",
      "Min temp: 21.8\n"
     ]
    }
   ],
   "source": [
    "# Task: Analyze temperature data for a week\n",
    "temps = np.array([22.5, 23.1, 21.8, 24.0, 23.3, 22.9, 23.7])\n",
    "\n",
    "# Print weekday and weekend temperatures\n",
    "print(\"Weekday temps:\", temps[:5])     # Monday to Friday\n",
    "print(\"Weekend temps:\", temps[-2:])    # Saturday and Sunday\n",
    "\n",
    "# Find the max and min temperatures of the week\n",
    "print(\"Max temp:\", np.max(temps))\n",
    "print(\"Min temp:\", np.min(temps))"
   ]
  },
  {
   "cell_type": "markdown",
   "id": "c55ba9e4-5da1-4f72-b14e-254f1660233b",
   "metadata": {},
   "source": [
    "> Note: Arrays make it simple to split data into meaningful segments like weekdays/weekends."
   ]
  },
  {
   "cell_type": "markdown",
   "id": "b33fdbbb-14ca-4c33-aa2c-e013154fd6c8",
   "metadata": {},
   "source": [
    "## Task 2: Mathematical Operations on Arrays"
   ]
  },
  {
   "cell_type": "markdown",
   "id": "7e5373b8-67a3-455e-8164-0b7d5f6b70b7",
   "metadata": {},
   "source": [
    "**Instructions:**\n",
    "- Create two arrays representing weekly sales for two weeks.\n",
    "- Use element-wise addition to compute total daily sales.\n",
    "- Calculate percentage increase from Week 1 to Week 2.\n",
    "- Calculate a 3-day moving average using convolution."
   ]
  },
  {
   "cell_type": "code",
   "execution_count": 10,
   "id": "13d25f83-0da1-4564-8334-c56eeb62bfb7",
   "metadata": {},
   "outputs": [
    {
     "name": "stdout",
     "output_type": "stream",
     "text": [
      "Total daily sales: [330 410 510 375 630 460 400]\n",
      "% Increase: [20.    5.    4.   14.29 10.    9.09 10.53]\n",
      "3-day moving average: [216.67 223.33 263.33 256.67 260.  ]\n"
     ]
    }
   ],
   "source": [
    "# Task: Compare weekly sales data\n",
    "week1 = np.array([150, 200, 250, 175, 300, 220, 190])\n",
    "week2 = np.array([180, 210, 260, 200, 330, 240, 210])\n",
    "\n",
    "# Total daily sales\n",
    "total = week1 + week2\n",
    "print(\"Total daily sales:\", total)\n",
    "\n",
    "# Percentage increase between Week 1 and Week 2\n",
    "increase = ((week2 - week1) / week1) * 100\n",
    "print(\"% Increase:\", np.round(increase, 2))\n",
    "\n",
    "# 3-day moving average using convolution\n",
    "moving_avg = np.convolve(week2, np.ones(3)/3, mode='valid')\n",
    "print(\"3-day moving average:\", np.round(moving_avg, 2))"
   ]
  },
  {
   "cell_type": "markdown",
   "id": "9359c9b3-7d34-4724-81c3-981b5d667ea4",
   "metadata": {},
   "source": [
    "## Task 3: Standardizing Exam Scores"
   ]
  },
  {
   "cell_type": "markdown",
   "id": "7ec4eff2-21d2-4b67-b009-c3c526120f5a",
   "metadata": {},
   "source": [
    "**Instructions:**\n",
    "- Create a NumPy array of student exam scores.\n",
    "- Normalize scores to a 0–1 range.\n",
    "- Rescale the normalized scores to 50–100."
   ]
  },
  {
   "cell_type": "code",
   "execution_count": 13,
   "id": "5158c043-3d99-498c-9980-d31359098c9a",
   "metadata": {},
   "outputs": [
    {
     "name": "stdout",
     "output_type": "stream",
     "text": [
      "Normalized (0–1): [0.14 0.29 0.71 0.86 0.43 0.   1.  ]\n",
      "Scaled (50–100): [ 57.14  64.29  85.71  92.86  71.43  50.   100.  ]\n"
     ]
    }
   ],
   "source": [
    "# Task: Normalize and rescale exam scores\n",
    "scores = np.array([65, 70, 85, 90, 75, 60, 95])\n",
    "\n",
    "# Normalize to [0, 1] range\n",
    "min_score, max_score = np.min(scores), np.max(scores)\n",
    "normalized = (scores - min_score) / (max_score - min_score)\n",
    "print(\"Normalized (0–1):\", np.round(normalized, 2))\n",
    "\n",
    "# Rescale to 50–100 range\n",
    "scaled = normalized * 50 + 50\n",
    "print(\"Scaled (50–100):\", np.round(scaled, 2))"
   ]
  },
  {
   "cell_type": "markdown",
   "id": "6460b934-0a71-4ded-ab44-5f2886917ce8",
   "metadata": {},
   "source": [
    "## Task 4: NumPy Speed Test"
   ]
  },
  {
   "cell_type": "markdown",
   "id": "fd9303dd-3f9e-4889-a5ab-7e1c3d41ed51",
   "metadata": {},
   "source": [
    "**Instructions:**\n",
    "- Generate 1 million random numbers in a Python list and a NumPy array.\n",
    "- Sum the values using a loop (list) and `np.sum()` (array).\n",
    "- Compare execution times."
   ]
  },
  {
   "cell_type": "code",
   "execution_count": 14,
   "id": "12eadaf5-624c-46cd-9d72-c63d6d7e7227",
   "metadata": {},
   "outputs": [
    {
     "name": "stdout",
     "output_type": "stream",
     "text": [
      "List sum time: 0.010819196701049805\n",
      "NumPy sum time: 0.0\n"
     ]
    }
   ],
   "source": [
    "# Task: Compare performance of sum in list vs NumPy array\n",
    "# Import necessary librairies\n",
    "import time\n",
    "import random\n",
    "\n",
    "# Generate 1 million random numbers in a list\n",
    "py_list = [random.random() for _ in range(1_000_000)]\n",
    "start = time.time()\n",
    "total = sum(py_list)\n",
    "print(\"List sum time:\", time.time() - start)\n",
    "\n",
    "# Generate 1 million random numbers in a NumPy array\n",
    "np_array = np.random.rand(1_000_000)\n",
    "start = time.time()\n",
    "total = np.sum(np_array)\n",
    "print(\"NumPy sum time:\", time.time() - start)"
   ]
  },
  {
   "cell_type": "markdown",
   "id": "e43d8390-f006-4854-8b32-d9411bb000c7",
   "metadata": {},
   "source": [
    "> Note: NumPy's speed comes from vectorized operations and optimized memory handling."
   ]
  },
  {
   "cell_type": "markdown",
   "id": "3418f29b-fb1f-41dc-a395-779666548d69",
   "metadata": {},
   "source": [
    "## Final Activity: Weather Sensor Analysis"
   ]
  },
  {
   "cell_type": "markdown",
   "id": "10a7a68e-117d-403e-a0b4-1dc036aabb38",
   "metadata": {},
   "source": [
    "**Instructions:**\n",
    "- Simulate 3 sensor readings for 7 days in a 2D array.\n",
    "- Calculate:\n",
    "  - Mean temperature per day\n",
    "  - Sensor with the highest weekly average\n",
    "  - Overall min and max temps\n",
    "  - Standard deviation per sensor\n",
    "  - Center the dataset by subtracting the mean from each sensor"
   ]
  },
  {
   "cell_type": "code",
   "execution_count": 15,
   "id": "5492d431-a3f8-49aa-84ec-f96119ba4906",
   "metadata": {},
   "outputs": [
    {
     "name": "stdout",
     "output_type": "stream",
     "text": [
      "Daily Averages: [22.17 22.8  21.73 23.67 22.67 22.9  23.77]\n",
      "Sensor Averages: [22.87 23.06 22.51]\n",
      "Best Sensor Index: 1\n",
      "Min Temp: 21.5\n",
      "Max Temp: 24.0\n",
      "Sensor STD: [0.76 0.66 0.71]\n",
      "Centered Data (first row): [-0.77 -0.56 -0.61]\n"
     ]
    }
   ],
   "source": [
    "# Task: Analyze temperature readings from 3 sensors over 7 days\n",
    "data = np.array([\n",
    "    [22.1, 22.5, 21.9],\n",
    "    [23.2, 22.8, 22.4],\n",
    "    [21.7, 22.0, 21.5],\n",
    "    [24.0, 23.8, 23.2],\n",
    "    [23.0, 22.9, 22.1],\n",
    "    [22.5, 23.4, 22.8],\n",
    "    [23.6, 24.0, 23.7]\n",
    "])\n",
    "\n",
    "# Mean temperature per day\n",
    "daily_avg = np.mean(data, axis=1)\n",
    "print(\"Daily Averages:\", np.round(daily_avg, 2))\n",
    "\n",
    "# Mean temperature per sensor across all days\n",
    "sensor_avg = np.mean(data, axis=0)\n",
    "print(\"Sensor Averages:\", np.round(sensor_avg, 2))\n",
    "print(\"Best Sensor Index:\", np.argmax(sensor_avg))\n",
    "\n",
    "# Minimum and maximum temperature overall\n",
    "print(\"Min Temp:\", np.min(data))\n",
    "print(\"Max Temp:\", np.max(data))\n",
    "\n",
    "# Standard deviation per sensor\n",
    "sensor_std = np.std(data, axis=0)\n",
    "print(\"Sensor STD:\", np.round(sensor_std, 2))\n",
    "\n",
    "# Center the data by subtracting sensor mean from each reading\n",
    "centered = data - sensor_avg\n",
    "print(\"Centered Data (first row):\", np.round(centered[0], 2))"
   ]
  },
  {
   "cell_type": "markdown",
   "id": "b936497c-991a-4540-806c-949436563f4c",
   "metadata": {},
   "source": [
    "---\n",
    "\n",
    "## Summary\n",
    "- NumPy provides efficient tools for numerical computation\n",
    "- Arrays enable fast, memory-efficient operations\n",
    "- Use slicing/indexing to manipulate data\n",
    "- Normalize and transform values for analysis\n",
    "\n",
    "📚 **Explore More**:\n",
    "- [NumPy Official Docs](https://numpy.org/doc/)\n",
    "- [W3Schools - NumPy Tutorial](https://www.w3schools.com/python/numpy/default.asp)\n",
    "\n",
    "\n",
    "✅ Keep practicing, try new datasets, and challenge yourself to apply these tools to real-world problems. You've got this!\n",
    "\n",
    "---"
   ]
  }
 ],
 "metadata": {
  "kernelspec": {
   "display_name": "Python 3 (ipykernel)",
   "language": "python",
   "name": "python3"
  },
  "language_info": {
   "codemirror_mode": {
    "name": "ipython",
    "version": 3
   },
   "file_extension": ".py",
   "mimetype": "text/x-python",
   "name": "python",
   "nbconvert_exporter": "python",
   "pygments_lexer": "ipython3",
   "version": "3.9.12"
  }
 },
 "nbformat": 4,
 "nbformat_minor": 5
}
