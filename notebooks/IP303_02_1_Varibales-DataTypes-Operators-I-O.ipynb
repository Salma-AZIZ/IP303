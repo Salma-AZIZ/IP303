{
 "cells": [
  {
   "cell_type": "markdown",
   "id": "888ceaa6-8337-4267-99aa-3c84766bd54e",
   "metadata": {},
   "source": [
    "# Python Fundamentals for Data Science"
   ]
  },
  {
   "cell_type": "markdown",
   "id": "69d6d83d-75fd-4c4e-a470-da5c9bbc6935",
   "metadata": {},
   "source": [
    "### Introduction \n",
    "\n",
    "In this notebook, you will learn the **essential building blocks of Python** for data science. These concepts are the foundation for every analysis, machine learning model, and dashboard you'll build.\n",
    "\n",
    "We will cover:\n",
    "- Variables and data types\n",
    "- Input and output\n",
    "- Python operators\n",
    "- Data structures and operations\n",
    "- Conditional logic and loops\n",
    "- Writing and using functions\n",
    "\n",
    "You will learn through real-world tasks and code examples so you can **apply Python to data problems** from day one."
   ]
  },
  {
   "cell_type": "markdown",
   "id": "9b30cb8d-23f4-401c-880d-a5e350960c03",
   "metadata": {
    "tags": []
   },
   "source": [
    "## 1. Variables - Data Types - Operators - Inpu/Output Basics"
   ]
  },
  {
   "cell_type": "markdown",
   "id": "fc470380-4c3e-4b78-a832-7ce0acd8e590",
   "metadata": {},
   "source": [
    "### What are Variables?"
   ]
  },
  {
   "cell_type": "markdown",
   "id": "63c99124-10b6-410a-bd97-3ad2229266e3",
   "metadata": {},
   "source": [
    "- Variables store values that can be used later in a program. \n",
    "- Python automatically assigns the type of a variable based on its value."
   ]
  },
  {
   "cell_type": "code",
   "execution_count": 10,
   "id": "d2c791c4-6d57-4069-93ac-1e01daaf5cfc",
   "metadata": {},
   "outputs": [
    {
     "name": "stdout",
     "output_type": "stream",
     "text": [
      "Model Name: Decision Tree - Type: <class 'str'>\n",
      "Number of Features: 12 - Type: <class 'int'>\n",
      "Accuracy: 0.87 - Type: <class 'float'>\n",
      "Is Overfitting: False - Type: <class 'bool'>\n"
     ]
    }
   ],
   "source": [
    "# Define variables\n",
    "model_name = \"Decision Tree\"\n",
    "num_features = 12\n",
    "accuracy = 0.87\n",
    "is_overfitting = False\n",
    "\n",
    "# Print variables and their types\n",
    "print(\"Model Name:\", model_name, \"- Type:\", type(model_name))\n",
    "print(\"Number of Features:\", num_features, \"- Type:\", type(num_features))\n",
    "print(\"Accuracy:\", accuracy, \"- Type:\", type(accuracy))\n",
    "print(\"Is Overfitting:\", is_overfitting, \"- Type:\", type(is_overfitting))"
   ]
  },
  {
   "cell_type": "markdown",
   "id": "bd3082c1-8507-4cb4-a2b9-32a038aa9575",
   "metadata": {},
   "source": [
    "### Why Convert Data Types?\n",
    "Sometimes, we need to **convert numbers to strings** for display purposes."
   ]
  },
  {
   "cell_type": "code",
   "execution_count": 11,
   "id": "4ca5556e-06de-420d-9176-7af088ddb55e",
   "metadata": {},
   "outputs": [
    {
     "name": "stdout",
     "output_type": "stream",
     "text": [
      "The model 'Decision Tree' has 12 features.\n",
      "The model 'Decision Tree' has 12 features.\n"
     ]
    }
   ],
   "source": [
    "# Convert number of features to string\n",
    "num_features_str = str(num_features)\n",
    "\n",
    "# Create a message using string concatenation\n",
    "message_concat = \"The model '\" + model_name + \"' has \" + num_features_str + \" features.\"\n",
    "print(message_concat)\n",
    "\n",
    "# Using f-strings (Recommended)\n",
    "message_fstring = f\"The model '{model_name}' has {num_features} features.\"\n",
    "print(message_fstring)"
   ]
  },
  {
   "cell_type": "markdown",
   "id": "abb40509-8494-49aa-8e22-bbd8219cacd3",
   "metadata": {
    "jp-MarkdownHeadingCollapsed": true,
    "tags": []
   },
   "source": [
    "### Operators in Data Science"
   ]
  },
  {
   "cell_type": "markdown",
   "id": "e6ea8deb-9f33-427b-ba01-0a2458a846d3",
   "metadata": {},
   "source": [
    "#### Arithmetic Operators"
   ]
  },
  {
   "cell_type": "code",
   "execution_count": 12,
   "id": "fbca8585-c161-4091-aad1-7962ae3be950",
   "metadata": {},
   "outputs": [
    {
     "name": "stdout",
     "output_type": "stream",
     "text": [
      "Total Revenue: 7150.0\n"
     ]
    }
   ],
   "source": [
    "# Define data\n",
    "num_transactions = 200\n",
    "avg_transaction_value = 35.75\n",
    "\n",
    "# Perform calculations\n",
    "total_revenue = num_transactions * avg_transaction_value\n",
    "print(\"Total Revenue:\", total_revenue)"
   ]
  },
  {
   "cell_type": "markdown",
   "id": "d30258ba-f73f-451f-a0f6-24e245eb27cd",
   "metadata": {},
   "source": [
    "#### Comparison Operators"
   ]
  },
  {
   "cell_type": "code",
   "execution_count": 13,
   "id": "7ff35294-3cfa-4dad-b361-8b872952bbd4",
   "metadata": {},
   "outputs": [
    {
     "name": "stdout",
     "output_type": "stream",
     "text": [
      "Is revenue > 5000? True\n",
      "Are there exactly 200 transactions? True\n"
     ]
    }
   ],
   "source": [
    "# Check if revenue is high\n",
    "print(\"Is revenue > 5000?\", total_revenue > 5000)\n",
    "\n",
    "# Check if the transaction count is exactly 200\n",
    "print(\"Are there exactly 200 transactions?\", num_transactions == 200)"
   ]
  },
  {
   "cell_type": "markdown",
   "id": "82bca822-df28-434f-84c3-c752ded2fbc4",
   "metadata": {},
   "source": [
    "#### Logical Operators"
   ]
  },
  {
   "cell_type": "code",
   "execution_count": 14,
   "id": "9038cd28-5942-472b-9af5-756edf6cf2a3",
   "metadata": {},
   "outputs": [
    {
     "name": "stdout",
     "output_type": "stream",
     "text": [
      "High revenue & high transactions? True\n",
      "High revenue OR many transactions? True\n"
     ]
    }
   ],
   "source": [
    "# Check for high revenue AND high transactions\n",
    "print(\"High revenue & high transactions?\", total_revenue > 5000 and num_transactions > 100)\n",
    "\n",
    "# Check if revenue exceeded 5000 OR transactions exceeded 300\n",
    "print(\"High revenue OR many transactions?\", total_revenue > 5000 or num_transactions > 300)"
   ]
  },
  {
   "cell_type": "markdown",
   "id": "bcdd2f88-40e8-464b-acb5-3e53087cde8b",
   "metadata": {},
   "source": [
    "#### Assignment Operators"
   ]
  },
  {
   "cell_type": "code",
   "execution_count": 15,
   "id": "11dcbc74-a303-4aa9-9ecc-c20316d6a132",
   "metadata": {},
   "outputs": [
    {
     "name": "stdout",
     "output_type": "stream",
     "text": [
      "New Total Revenue after increase: 7865.000000000001\n"
     ]
    }
   ],
   "source": [
    "# Increase transaction value by 10%\n",
    "avg_transaction_value *= 1.10\n",
    "new_total_revenue = num_transactions * avg_transaction_value\n",
    "print(\"New Total Revenue after increase:\", new_total_revenue)"
   ]
  },
  {
   "cell_type": "markdown",
   "id": "045e7907-c90e-4c06-a3b3-446dcec9207d",
   "metadata": {
    "tags": []
   },
   "source": [
    "### Input & Output in Data Science"
   ]
  },
  {
   "cell_type": "markdown",
   "id": "be2eccef-bbed-49bc-a203-7f3b05a002e7",
   "metadata": {},
   "source": [
    "#### Using Input to Get User Data"
   ]
  },
  {
   "cell_type": "code",
   "execution_count": 17,
   "id": "a8cac3f9-6c84-4446-9b9e-ee928100edaa",
   "metadata": {},
   "outputs": [
    {
     "name": "stdin",
     "output_type": "stream",
     "text": [
      "Enter dataset name:  iris\n",
      "Enter number of samples:  4\n",
      "Enter average feature value:  2\n"
     ]
    },
    {
     "name": "stdout",
     "output_type": "stream",
     "text": [
      "Dataset 'iris' has 4 samples with a total feature sum of 8.00.\n"
     ]
    }
   ],
   "source": [
    "# Get user input\n",
    "dataset_name = input(\"Enter dataset name: \")\n",
    "num_samples = int(input(\"Enter number of samples: \"))\n",
    "avg_feature_value = float(input(\"Enter average feature value: \"))\n",
    "\n",
    "# Compute total feature sum\n",
    "total_feature_sum = num_samples * avg_feature_value\n",
    "\n",
    "# Print summary\n",
    "print(f\"Dataset '{dataset_name}' has {num_samples} samples with a total feature sum of {total_feature_sum:.2f}.\")"
   ]
  },
  {
   "cell_type": "markdown",
   "id": "a13d8f4a-95d4-4559-9177-b7b727a71cfd",
   "metadata": {
    "tags": []
   },
   "source": [
    "### Activity 1: Weather Data Analysis"
   ]
  },
  {
   "cell_type": "markdown",
   "id": "cd7a90ed-2ba0-43dc-b46b-d7d0f407aeaf",
   "metadata": {},
   "source": [
    "You are analyzing weather data. Your task is to:\n",
    "1. Ask for user input (city, number of days, average temperature).\n",
    "2. Compute the total temperature sum.\n",
    "3. Identify **extreme weather conditions**."
   ]
  },
  {
   "cell_type": "markdown",
   "id": "18085feb-efe9-427f-a275-f8cefa899502",
   "metadata": {},
   "source": [
    "#### Step 1: Get User Input\n",
    "\n",
    "We need to collect:\n",
    "1. The **city name** (string).\n",
    "2. The **number of days recorded** (integer).\n",
    "3. The **average temperature** over those days (float)."
   ]
  },
  {
   "cell_type": "code",
   "execution_count": 18,
   "id": "175c7bf5-1a12-42bc-934c-8b845c684e92",
   "metadata": {},
   "outputs": [
    {
     "name": "stdin",
     "output_type": "stream",
     "text": [
      "Enter city name:  Nancy\n",
      "Enter number of days recorded:  10\n",
      "Enter average temperature:  5\n"
     ]
    }
   ],
   "source": [
    "# Get user input\n",
    "city_name = input(\"Enter city name: \")\n",
    "num_days = int(input(\"Enter number of days recorded: \"))\n",
    "avg_temperature = float(input(\"Enter average temperature: \"))\n",
    "\n",
    "# Compute total temperature sum\n",
    "total_temperature = num_days * avg_temperature"
   ]
  },
  {
   "cell_type": "markdown",
   "id": "91d2e28f-ca5b-4bfe-8063-a7ad7a64f1a2",
   "metadata": {},
   "source": [
    "#### Step 2: Detect Extreme Weather Using Operators\n",
    "\n",
    "We will analyze:\n",
    "- Whether the **temperature is extreme** (`below 5.0°C OR above 35.0°C`).\n",
    "- Whether the **city had a heatwave** (`more than 30 days AND avg temp > 25.0°C`)."
   ]
  },
  {
   "cell_type": "code",
   "execution_count": 20,
   "id": "5e642915-f4bf-433d-80e7-30cb0df50817",
   "metadata": {},
   "outputs": [],
   "source": [
    "# Store analysis results in boolean variables\n",
    "is_extreme_temp = avg_temperature < 5.0 or avg_temperature > 35.0\n",
    "has_heatwave = num_days > 30 and avg_temperature > 25.0"
   ]
  },
  {
   "cell_type": "markdown",
   "id": "f7cdb869-89c5-4199-b881-d784cd333113",
   "metadata": {},
   "source": [
    "##### Step 3: Print the Summary\n",
    "\n",
    "Instead of using `if` statements, we **print the boolean results** directly."
   ]
  },
  {
   "cell_type": "code",
   "execution_count": 21,
   "id": "1279f0f4-ce1d-4ed2-a088-3894d03af5fc",
   "metadata": {},
   "outputs": [
    {
     "name": "stdout",
     "output_type": "stream",
     "text": [
      "Weather data for Nancy: 10 days recorded, avg temp = 5.0°C.\n",
      "Extreme temperature detected? False\n",
      "Possible heatwave detected? False\n"
     ]
    }
   ],
   "source": [
    "# Print results\n",
    "print(f\"Weather data for {city_name}: {num_days} days recorded, avg temp = {avg_temperature}°C.\")\n",
    "print(f\"Extreme temperature detected? {is_extreme_temp}\")\n",
    "print(f\"Possible heatwave detected? {has_heatwave}\")"
   ]
  },
  {
   "cell_type": "markdown",
   "id": "57696a6c-4740-4cd8-a2b0-102cd7b78656",
   "metadata": {
    "tags": []
   },
   "source": [
    "## 2. Python Data Structures and Operations"
   ]
  },
  {
   "cell_type": "markdown",
   "id": "b47ce205-b18a-4b75-b8b8-c769ce30359d",
   "metadata": {},
   "source": [
    "### Introduction\n",
    "In this part of the notebook, we explore Python's built-in data structures and their basic operations. These are essential tools for organizing and manipulating data before any analysis can begin. You will learn how to use:\n",
    "- Lists\n",
    "- Tuples\n",
    "- Sets\n",
    "- Dictionaries"
   ]
  },
  {
   "cell_type": "code",
   "execution_count": 1,
   "id": "25b2f801-f0da-45f6-b935-7c953fcdae6e",
   "metadata": {},
   "outputs": [],
   "source": [
    "example_list = [10, 20, 30]\n",
    "example_tuple = (\"Name\", \"Age\", \"Score\")\n",
    "example_set = {\"Books\", \"Electronics\", \"Books\"}  # Removes duplicates\n",
    "example_dict = {\"ID\": 1, \"Name\": \"Amina\"}"
   ]
  },
  {
   "cell_type": "markdown",
   "id": "bdaceac1-5ca3-497d-a1c8-a0e5af9dc92e",
   "metadata": {
    "jp-MarkdownHeadingCollapsed": true,
    "tags": []
   },
   "source": [
    "### 1. Lists – Ordered and Mutable"
   ]
  },
  {
   "cell_type": "markdown",
   "id": "c5e1b15e-91a9-4844-8935-9cdc069ea8da",
   "metadata": {},
   "source": [
    "Lists are ordered collections that can be changed after creation. They are commonly used in data science to store sequences like transaction histories, sensor readings, or user ratings.\n",
    "\n",
    "#### Common operations:\n",
    "- `append(value)`: Add item to the end\n",
    "- `insert(index, value)`: Insert item at a specific index\n",
    "- `remove(value)`: Remove the first occurrence of a value\n",
    "- `pop(index)`: Remove item by index\n",
    "- `extend(list2)`: Add all elements from another list\n",
    "- `list1 + list2`: Combine two lists\n",
    "- `list[start:stop:step]`: Slice a portion of the list\n",
    "\n",
    "#### Example"
   ]
  },
  {
   "cell_type": "code",
   "execution_count": 30,
   "id": "e72ddf68-5205-46fc-935c-e758bfae8854",
   "metadata": {},
   "outputs": [
    {
     "name": "stdout",
     "output_type": "stream",
     "text": [
      "[49.99, 59.99, 149.99, 199.99, 89.99, 129.99]\n"
     ]
    }
   ],
   "source": [
    "prices = [59.99, 99.99, 149.99]  # Initial price list for products\n",
    "prices.append(199.99)            # Add a new price\n",
    "prices.insert(0, 49.99)          # Insert a price at the beginning\n",
    "prices.remove(99.99)             # Remove a specific price\n",
    "more_prices = [89.99, 129.99]    # Another price list\n",
    "combined_prices = prices + more_prices  # Combine both lists\n",
    "print(combined_prices)"
   ]
  },
  {
   "cell_type": "markdown",
   "id": "2894ff9f-5526-489d-8249-74850cac901d",
   "metadata": {},
   "source": [
    "#### Task 1: Working with List\n",
    "You are tracking weekly customer transactions."
   ]
  },
  {
   "cell_type": "code",
   "execution_count": 17,
   "id": "122df4f3-ce5f-4b98-8096-f600ed2b029d",
   "metadata": {},
   "outputs": [
    {
     "name": "stdout",
     "output_type": "stream",
     "text": [
      "Middle transactions: [250, 200, 450]\n",
      "All transactions: [150, 250, 200, 450, 600, 700, 800, 950]\n"
     ]
    }
   ],
   "source": [
    "transactions = [150, 300, 200, 450, 600]  # Step 1: Create a list\n",
    "transactions.append(700)                 # Step 3: Add a new transaction at the end\n",
    "transactions.insert(2, 250)              # Step 4: Insert a missing transaction at index 2\n",
    "transactions.remove(300)                 # Step 5: Remove a specific transaction\n",
    "print(\"Middle transactions:\", transactions[1:4])  # Step 6: Slice middle transactions\n",
    "combined_week = transactions + [800, 950]         # Step 7: Combine with another week's transactions\n",
    "print(\"All transactions:\", combined_week)"
   ]
  },
  {
   "cell_type": "markdown",
   "id": "70c75f75-1ec4-4050-8a9a-ce2fc152c21d",
   "metadata": {},
   "source": [
    "> Lists can store different types of data. They are flexible and great for storing and manipulating sequences. Indexing starts at 0, and negative indexing allows access from the end."
   ]
  },
  {
   "cell_type": "markdown",
   "id": "229330c8-7b8f-4fc8-b765-89122abdfd94",
   "metadata": {
    "jp-MarkdownHeadingCollapsed": true,
    "tags": []
   },
   "source": [
    "### 2. Tuples – Ordered but Immutable"
   ]
  },
  {
   "cell_type": "markdown",
   "id": "d9042dfa-6a32-4935-9e1d-0cc2261941fe",
   "metadata": {},
   "source": [
    "Tuples are similar to lists but cannot be modified. Use them when the data should remain constant (e.g., column names, coordinates).\n",
    "\n",
    "#### Common operations:\n",
    "- Access via indexing: `tuple[index]`\n",
    "- Combine tuples: `tuple1 + tuple2`\n",
    "\n",
    "#### Example"
   ]
  },
  {
   "cell_type": "code",
   "execution_count": 31,
   "id": "ef871efc-c93d-4429-86e2-bcefee82382c",
   "metadata": {},
   "outputs": [
    {
     "name": "stdout",
     "output_type": "stream",
     "text": [
      "34.0522\n",
      "Longitude\n"
     ]
    }
   ],
   "source": [
    "coordinates = (34.0522, -118.2437)  # Coordinates of Los Angeles\n",
    "location = (\"City\", \"Latitude\", \"Longitude\")\n",
    "print(coordinates[0])  # Access latitude\n",
    "print(location[-1])    # Access last element in the label tuple"
   ]
  },
  {
   "cell_type": "markdown",
   "id": "e98ec35e-ed83-4202-a994-162526756a02",
   "metadata": {},
   "source": [
    "#### Task 2: Dataset Structure Snapshot\n",
    "You are defining a fixed structure for a dataset."
   ]
  },
  {
   "cell_type": "code",
   "execution_count": 22,
   "id": "ced0bb06-0d59-459f-b71b-258f1e9a878b",
   "metadata": {},
   "outputs": [
    {
     "name": "stdout",
     "output_type": "stream",
     "text": [
      "Second Column: Customer Name\n",
      "Last Column: Date\n"
     ]
    }
   ],
   "source": [
    "dataset_columns = (\"Order ID\", \"Customer Name\", \"Total Spend\", \"Date\")  # Step 1: Create a tuple of column names\n",
    "print(\"Second Column:\", dataset_columns[1])    # Step 2: Print the second column\n",
    "print(\"Last Column:\", dataset_columns[-1])     # Step 2: Print the last column\n",
    "# Step 3 (attempting to modify the tuple would raise an error, so we don't include it here)"
   ]
  },
  {
   "cell_type": "markdown",
   "id": "22c08da5-87bf-44c8-9206-d186dc2b1da0",
   "metadata": {},
   "source": [
    "> Tuples are useful for storing metadata or fixed configuration values. They ensure consistency throughout your analysis."
   ]
  },
  {
   "cell_type": "markdown",
   "id": "1d8fad86-725e-4444-be49-02e34155961c",
   "metadata": {
    "jp-MarkdownHeadingCollapsed": true,
    "tags": []
   },
   "source": [
    "### 3. Sets – Unique and Unordered"
   ]
  },
  {
   "cell_type": "markdown",
   "id": "b3a4c6c0-bf8d-4b08-8640-d91df7ae6d95",
   "metadata": {},
   "source": [
    "Sets are unordered collections of unique elements. They are useful for eliminating duplicates and performing set operations.\n",
    "\n",
    "#### Common operations:\n",
    "- `add(value)`: Add an item\n",
    "- `remove(value)`: Remove an item\n",
    "- `union(set2)`: Combine sets\n",
    "- `intersection(set2)`: Find common items\n",
    "- `difference(set2)`: Find non-overlapping items\n",
    "\n",
    "#### Example"
   ]
  },
  {
   "cell_type": "code",
   "execution_count": 32,
   "id": "a430495b-c146-4108-89a6-90101d845af3",
   "metadata": {},
   "outputs": [
    {
     "name": "stdout",
     "output_type": "stream",
     "text": [
      "Visited again: {'Paris', 'Tokyo'}\n",
      "Full itinerary: {'Paris', 'Tokyo', 'Seoul', 'New York'}\n"
     ]
    }
   ],
   "source": [
    "cities_visited = {\"Paris\", \"London\", \"New York\"}  # Initial set\n",
    "cities_visited.add(\"Tokyo\")                         # Add new city\n",
    "cities_visited.remove(\"London\")                     # Remove a city\n",
    "upcoming_travel = {\"Tokyo\", \"Seoul\", \"Paris\"}      # Another travel set\n",
    "print(\"Visited again:\", cities_visited.intersection(upcoming_travel))\n",
    "print(\"Full itinerary:\", cities_visited.union(upcoming_travel))"
   ]
  },
  {
   "cell_type": "markdown",
   "id": "6b82382a-127a-49c6-bd99-ab9d93f5b580",
   "metadata": {},
   "source": [
    "#### Task 3: Filtering Unique Tags\n",
    "You are helping clean up product tags from two online store datasets."
   ]
  },
  {
   "cell_type": "code",
   "execution_count": 26,
   "id": "d494356d-ae3e-42c8-b51d-efd1edd96a62",
   "metadata": {},
   "outputs": [
    {
     "name": "stdout",
     "output_type": "stream",
     "text": [
      "Shared tags: {'Electronics', 'Books'}\n",
      "All categories: {'Electronics', 'Health', 'Home', 'Books'}\n"
     ]
    }
   ],
   "source": [
    "product_tags = {\"Books\", \"Electronics\", \"Books\", \"Fashion\"}  # Step 1: Create set with duplicates\n",
    "product_tags.add(\"Health\")                                     # Step 2: Add new category\n",
    "product_tags.remove(\"Fashion\")                                 # Step 3: Remove a category\n",
    "other_tags = {\"Electronics\", \"Home\", \"Books\"}                 # Step 4: Create second set\n",
    "print(\"Shared tags:\", product_tags.intersection(other_tags))    # Step 5: Common tags\n",
    "print(\"All categories:\", product_tags.union(other_tags))        # Step 6: Combined tags"
   ]
  },
  {
   "cell_type": "markdown",
   "id": "1ba20398-8d5b-425d-a2f4-3bd9b75a6800",
   "metadata": {},
   "source": [
    "> Sets remove duplicates automatically. Useful for category filters or unique value extraction in preprocessing."
   ]
  },
  {
   "cell_type": "markdown",
   "id": "27258a61-64bb-492d-afad-5bb04133054e",
   "metadata": {
    "jp-MarkdownHeadingCollapsed": true,
    "tags": []
   },
   "source": [
    "### 4. Dictionaries – Key-Value Pairs"
   ]
  },
  {
   "cell_type": "markdown",
   "id": "aa8f1d65-4def-4be2-822a-8dde594fa74e",
   "metadata": {},
   "source": [
    "Dictionaries store structured data using key-value pairs. Keys must be unique, and values can be of any type.\n",
    "\n",
    "#### Common operations:\n",
    "- Access: `dict[key]`\n",
    "- Add or update: `dict[key] = value`\n",
    "- Merge: `dict.update(other_dict)`\n",
    "- Retrieve keys: `dict.keys()`\n",
    "- Retrieve values: `dict.values()`\n",
    "\n",
    "#### Example"
   ]
  },
  {
   "cell_type": "code",
   "execution_count": 33,
   "id": "8852c670-f39c-43c5-b584-40284db0b379",
   "metadata": {},
   "outputs": [
    {
     "name": "stdout",
     "output_type": "stream",
     "text": [
      "{'Title': 'Data Science 101', 'Author': 'Jane Doe', 'Pages': 320, 'Available': True, 'Language': 'English', 'Publisher': 'TechPress'}\n"
     ]
    }
   ],
   "source": [
    "book = {\"Title\": \"Data Science 101\", \"Author\": \"Jane Doe\", \"Pages\": 320}  # Basic dictionary\n",
    "book[\"Available\"] = True                                                    # Add new key-value pair\n",
    "book.update({\"Language\": \"English\", \"Publisher\": \"TechPress\"})          # Merge another dictionary\n",
    "print(book)"
   ]
  },
  {
   "cell_type": "markdown",
   "id": "ef91ef1b-1143-4408-bef0-79ea2effff36",
   "metadata": {},
   "source": [
    "#### Task 4: Managing Student Grades\n",
    "You are building a student report system."
   ]
  },
  {
   "cell_type": "code",
   "execution_count": 28,
   "id": "734ec229-da7a-41d4-a18c-abe08f551f08",
   "metadata": {},
   "outputs": [
    {
     "name": "stdout",
     "output_type": "stream",
     "text": [
      "Grades: [85, 92, 78]\n",
      "Student Record: {'ID': 1023, 'Name': 'Amina', 'Grades': [85, 92, 78], 'Passed': True, 'Attendance': 95, 'Average Score': 85}\n"
     ]
    }
   ],
   "source": [
    "student = {\"ID\": 1023, \"Name\": \"Amina\", \"Grades\": [85, 92, 78]}  # Step 1: Create dictionary\n",
    "print(\"Grades:\", student[\"Grades\"])                                # Step 2: Retrieve grades\n",
    "student[\"Passed\"] = True                                           # Step 3: Add pass status\n",
    "student.update({\"Attendance\": 95, \"Average Score\": 85})          # Step 4: Merge additional info\n",
    "print(\"Student Record:\", student)                                  # Step 5: Print final record"
   ]
  },
  {
   "cell_type": "markdown",
   "id": "d3073300-835c-4e03-88e6-10a2e8da948b",
   "metadata": {},
   "source": [
    "> Dictionaries are ideal for labeled records. They allow flexible, fast access to structured data."
   ]
  },
  {
   "cell_type": "markdown",
   "id": "7067da68-1523-4e05-8377-9ac656e85264",
   "metadata": {
    "jp-MarkdownHeadingCollapsed": true,
    "tags": []
   },
   "source": [
    "### Activity 4 - Structuring an E-commerce Record"
   ]
  },
  {
   "cell_type": "markdown",
   "id": "0d60002c-9176-4259-85fe-f777ab46054c",
   "metadata": {},
   "source": [
    "**Scenario:** You are analyzing a customer’s data using multiple data structures.\n",
    "\n",
    "#### Steps:"
   ]
  },
  {
   "cell_type": "code",
   "execution_count": 29,
   "id": "667b8711-c718-4419-b936-f0ecdd716032",
   "metadata": {},
   "outputs": [
    {
     "name": "stdout",
     "output_type": "stream",
     "text": [
      "Transactions: [120, 300, 250, 430, 500]\n",
      "Customer Info: {'ID': 201, 'Name': 'Lina', 'Total Purchases': 1600, 'Loyalty Member': True}\n",
      "Product Categories: {'Electronics', 'Health', 'Books'}\n",
      "Customer Record: (201, 'Lina', 1600)\n"
     ]
    }
   ],
   "source": [
    "# Step 1: Create a list of purchases\n",
    "purchases = [120, 300, 250, 430, 100]  # List of transaction amounts\n",
    "purchases.append(500)                 # Add a new transaction\n",
    "purchases.remove(100)                 # Remove a low-value transaction\n",
    "\n",
    "# Step 2: Calculate total purchase amount\n",
    "total_spent = sum(purchases)\n",
    "\n",
    "# Step 3: Create dictionary for customer info\n",
    "customer_info = {\n",
    "    \"ID\": 201,\n",
    "    \"Name\": \"Lina\",\n",
    "    \"Total Purchases\": total_spent,\n",
    "    \"Loyalty Member\": True\n",
    "}\n",
    "\n",
    "# Step 4: Use set for product categories\n",
    "categories = {\"Books\", \"Clothing\", \"Electronics\"}  # Initial categories\n",
    "categories.add(\"Health\")                            # Add a new category\n",
    "categories.remove(\"Clothing\")                       # Remove one category\n",
    "\n",
    "# Step 5: Create tuple for immutable customer record\n",
    "record = (customer_info[\"ID\"], customer_info[\"Name\"], customer_info[\"Total Purchases\"])\n",
    "\n",
    "# Step 6: Print all components\n",
    "print(\"Transactions:\", purchases)\n",
    "print(\"Customer Info:\", customer_info)\n",
    "print(\"Product Categories:\", categories)\n",
    "print(\"Customer Record:\", record)"
   ]
  },
  {
   "cell_type": "markdown",
   "id": "f37762ff-3145-4daa-9dba-dd042483fcfd",
   "metadata": {},
   "source": [
    "> By combining these structures, we can simulate real-world data handling. Each structure plays a unique role:\n",
    "> - **List** for raw data\n",
    "> - **Set** for unique tags\n",
    "> - **Dict** for structured profile\n",
    "> - **Tuple** for fixed records"
   ]
  },
  {
   "cell_type": "markdown",
   "id": "4c5334de-58d9-4409-bf8c-397061c71e43",
   "metadata": {},
   "source": [
    "### Summary\n",
    "- Lists are best for ordered, changeable sequences.\n",
    "- Tuples are ordered and immutable—ideal for fixed records.\n",
    "- Sets automatically handle uniqueness.\n",
    "- Dictionaries organize labeled, structured data.\n",
    "\n",
    "These building blocks prepare you for working with tabular data, files, and libraries like `pandas`.\n",
    "\n",
    "Explore the **W3Schools Python Structures Guide** for further reference:\n",
    "- [Python Lists](https://www.w3schools.com/python/python_lists.asp)\n",
    "- [Python Tuples](https://www.w3schools.com/python/python_tuples.asp)\n",
    "- [Python Sets](https://www.w3schools.com/python/python_sets.asp)\n",
    "- [Python Dictionaries](https://www.w3schools.com/python/python_dictionaries.asp)"
   ]
  },
  {
   "cell_type": "markdown",
   "id": "aca68d8c-8606-4a5b-9651-c2251c51d9e0",
   "metadata": {},
   "source": [
    "#### ✅ Next Step: Functions and Control Flow\n",
    "Now that you are comfortable working with data structures, you're ready to move on to writing reusable code using **functions** and making decisions with **control flow** statements (`if`, `else`, etc.). These will help you automate and scale your data processing tasks."
   ]
  },
  {
   "cell_type": "markdown",
   "id": "3505fc2d-594d-46e2-8af9-58d88d807255",
   "metadata": {},
   "source": [
    "----"
   ]
  },
  {
   "cell_type": "markdown",
   "id": "3bd68123-83e7-4ec6-831c-bdb37b2d30a8",
   "metadata": {},
   "source": [
    "## 3. Python Control Flow and Functions"
   ]
  },
  {
   "cell_type": "markdown",
   "id": "8176951d-fed5-4ab5-8fcb-2409768c6648",
   "metadata": {},
   "source": [
    "#### Introduction\n",
    "In this part of the notebook, we will explore how to control the flow of logic in Python using **if-else conditions**, **loops**, **List Comprehension** and **functions**. These tools help you make decisions in your code, repeat actions, and organize logic for reuse.\n"
   ]
  },
  {
   "cell_type": "markdown",
   "id": "87b5a374-9220-48b9-9bbe-5036ffa27ce4",
   "metadata": {
    "tags": []
   },
   "source": [
    "### 1. Making Decisions with `if`, `elif`, `else`"
   ]
  },
  {
   "cell_type": "markdown",
   "id": "e48f4756-bca1-4bcc-9307-4033a03fe235",
   "metadata": {},
   "source": [
    "Python allows us to make decisions based on conditions. These conditions return `True` or `False`, and Python executes the corresponding block of code.\n",
    "\n",
    "#### General Syntax:\n",
    "```python\n",
    "if condition:\n",
    "    # do something\n",
    "elif another_condition:\n",
    "    # do something else\n",
    "else:\n",
    "    # fallback\n",
    "```\n",
    "\n",
    "#### Example:"
   ]
  },
  {
   "cell_type": "code",
   "execution_count": 40,
   "id": "10c55d54-7ae6-4dc4-a34b-26786af6809a",
   "metadata": {},
   "outputs": [
    {
     "name": "stdout",
     "output_type": "stream",
     "text": [
      "Senior Citizen\n"
     ]
    }
   ],
   "source": [
    "# Categorize a person based on age\n",
    "age = 65\n",
    "if age < 18:\n",
    "    print(\"Minor\")\n",
    "elif age >= 60:\n",
    "    print(\"Senior Citizen\")\n",
    "else:\n",
    "    print(\"Adult\")"
   ]
  },
  {
   "cell_type": "markdown",
   "id": "194321a9-6be2-4793-930b-5f61829ce8c7",
   "metadata": {},
   "source": [
    "#### Task 1: Categorizing Customer Satisfaction"
   ]
  },
  {
   "cell_type": "markdown",
   "id": "d022c93b-46bf-4941-8e35-c4f8715cde1b",
   "metadata": {},
   "source": [
    "**Instructions:**\n",
    "- Create a variable `score` representing customer satisfaction (0–100).\n",
    "- Print:\n",
    "  - \"Very Dissatisfied\" if score < 40\n",
    "  - \"Neutral\" if 40 <= score <= 70\n",
    "  - \"Very Satisfied\" if score > 70\n",
    "- Try with different values: 25, 55, 85"
   ]
  },
  {
   "cell_type": "code",
   "execution_count": 41,
   "id": "db7a064d-2baa-41f3-be68-09c2705d6f30",
   "metadata": {},
   "outputs": [
    {
     "name": "stdout",
     "output_type": "stream",
     "text": [
      "Neutral\n"
     ]
    }
   ],
   "source": [
    "score = 55  # Try changing to 25, 85\n",
    "if score < 40:\n",
    "    print(\"Very Dissatisfied\")\n",
    "elif score <= 70:\n",
    "    print(\"Neutral\")\n",
    "else:\n",
    "    print(\"Very Satisfied\")"
   ]
  },
  {
   "cell_type": "markdown",
   "id": "37b3c823-8828-4836-9e68-8f9164c4cdda",
   "metadata": {},
   "source": [
    "> - This helps classify responses from a customer survey.\n",
    "> - The first condition that evaluates to True is executed. Only one block runs"
   ]
  },
  {
   "cell_type": "markdown",
   "id": "edbd5ab0-b19e-426d-b132-7895be8a3039",
   "metadata": {},
   "source": [
    "### 2. Loops: Repeating Actions"
   ]
  },
  {
   "cell_type": "markdown",
   "id": "d12a176c-d49a-48bb-953c-9e6ec6befe10",
   "metadata": {},
   "source": [
    "#### `for` Loops\n",
    "Use `for` to iterate over a sequence such as a list or a string.\n",
    "\n",
    "##### General Syntax:\n",
    "```python\n",
    "for item in collection:\n",
    "    # do something\n",
    "```\n",
    "\n",
    "#### Example:"
   ]
  },
  {
   "cell_type": "code",
   "execution_count": 43,
   "id": "1dac4ff3-855b-48c2-88aa-f113117989c6",
   "metadata": {},
   "outputs": [
    {
     "name": "stdout",
     "output_type": "stream",
     "text": [
      "HELLO\n",
      "DATA\n",
      "SCIENCE\n"
     ]
    }
   ],
   "source": [
    "words = [\"hello\", \"data\", \"science\"]\n",
    "for word in words:\n",
    "    print(word.upper())"
   ]
  },
  {
   "cell_type": "markdown",
   "id": "5f29e46c-1a15-4e0a-a230-ef253cf25dcd",
   "metadata": {},
   "source": [
    "#### `while` Loops\n",
    "`while` loops run **as long as a condition is True**.\n",
    "\n",
    "\n",
    "##### General Syntax:\n",
    "```python\n",
    "while condition_isTrue:\n",
    "    # do something\n",
    "```\n",
    "\n",
    "##### Example:"
   ]
  },
  {
   "cell_type": "code",
   "execution_count": 45,
   "id": "bc015e53-0bd2-415a-92b5-8f84976bab51",
   "metadata": {},
   "outputs": [
    {
     "name": "stdout",
     "output_type": "stream",
     "text": [
      "Count is 0\n",
      "Count is 1\n",
      "Count is 2\n"
     ]
    }
   ],
   "source": [
    "count = 0\n",
    "while count < 3:\n",
    "    print(f\"Count is {count}\")\n",
    "    count += 1"
   ]
  },
  {
   "cell_type": "markdown",
   "id": "0a68b5f2-4cd9-4899-8917-73e2e662e1ae",
   "metadata": {},
   "source": [
    "> Be careful: `while` loops must include a way to **stop**, or they will run forever."
   ]
  },
  {
   "cell_type": "code",
   "execution_count": null,
   "id": "15b692dd-2da2-4f4e-b2c5-31c4eb11e67b",
   "metadata": {},
   "outputs": [],
   "source": [
    "Here’s the **adjusted version of Task 2** with both `for` and `while` loop usage, updated context, and improved instructions for both your **slide** and **Jupyter notebook**.\n",
    "\n",
    "---\n",
    "\n",
    "### 🧪 **Slide: Task 2 – Looping Through Product Names**\n",
    "\n",
    "**Slide Title:** 🛍️ Task – Printing Product Names with Loops\n",
    "\n",
    "**Challenge:**  \n",
    "Can we print each product from a shopping cart using both `for` and `while` loops?\n",
    "\n",
    "**Instructions:**\n",
    "- Create a list of items: `[\"Phone\", \"Tablet\", \"Charger\"]`\n",
    "- Use a `for` loop to print each item with the prefix: `Product: <name>`\n",
    "- Then do the same using a `while` loop\n",
    "\n",
    "**Hint:**  \n",
    "- Use string formatting: `f\"Product: {name}\"`  \n",
    "- For the `while` loop, use an index to iterate through the list\n",
    "\n",
    "**Reflection:**\n",
    "- What’s the difference between `for` and `while` loops?\n",
    "- When might you prefer one over the other?\n",
    "\n",
    "---\n",
    "\n",
    "### 📓 **Jupyter Notebook Markdown – Task 2: Printing Product Names with Loops**\n",
    "\n",
    "```markdown\n",
    "\n",
    "\n",
    "```python\n",
    "\n",
    "\n",
    "\n",
    "```\n",
    "\n",
    "### 💬 Reflection:\n",
    "- How do `for` and `while` loops compare in readability?\n",
    "- Which loop would you use for unknown-length conditions?\n",
    "- Can you reuse this logic for processing user inputs, datasets, or file lines?\n",
    "\n",
    "\n",
    "```\n",
    "\n",
    "---\n",
    "\n",
    "Let me know if you'd like a bonus challenge variation (like stopping when a specific product is found) or if you'd like to add a visual slide!"
   ]
  },
  {
   "cell_type": "markdown",
   "id": "fb811367-978e-4b3c-b2ab-384ec573d3b8",
   "metadata": {},
   "source": [
    "#### 🛍️ Task 2: Print Product Names with Loops"
   ]
  },
  {
   "cell_type": "markdown",
   "id": "067776aa-f0da-4771-a70b-fc6284e96273",
   "metadata": {},
   "source": [
    "In this task, you'll loop through a shopping cart list using both a `for` loop and a `while` loop.\n",
    "\n",
    "##### Instructions:\n",
    "1. Create a list: `[\"Phone\", \"Tablet\", \"Charger\"]`\n",
    "2. Use a `for` loop to print each item with the prefix `\"Product:\"`\n",
    "3. Repeat the same using a `while` loop"
   ]
  },
  {
   "cell_type": "code",
   "execution_count": 1,
   "id": "dee285dc-2d88-4195-bc1a-eac36f44c7c2",
   "metadata": {},
   "outputs": [
    {
     "name": "stdout",
     "output_type": "stream",
     "text": [
      "Product: Phone\n",
      "Product: Tablet\n",
      "Product: Charger\n"
     ]
    }
   ],
   "source": [
    "# List of products\n",
    "products = [\"Phone\", \"Tablet\", \"Charger\"]\n",
    "\n",
    "# Using a for loop\n",
    "for name in products:\n",
    "    print(f\"Product: {name}\")"
   ]
  },
  {
   "cell_type": "code",
   "execution_count": 2,
   "id": "1b66d2ec-f7e9-47ad-8d8b-adbbf6de7439",
   "metadata": {},
   "outputs": [
    {
     "name": "stdout",
     "output_type": "stream",
     "text": [
      "Product: Phone\n",
      "Product: Tablet\n",
      "Product: Charger\n"
     ]
    }
   ],
   "source": [
    "# Using a while loop\n",
    "index = 0\n",
    "while index < len(products):\n",
    "    print(f\"Product: {products[index]}\")\n",
    "    index += 1"
   ]
  },
  {
   "cell_type": "markdown",
   "id": "a3abc18c-81e2-4c5c-98ab-aba177ffa0f9",
   "metadata": {},
   "source": [
    ">- `for` loops are ideal when working with collections.\n",
    ">- `while` loops give more control when looping until a specific condition is met."
   ]
  },
  {
   "cell_type": "markdown",
   "id": "def10f78-22d2-48e6-89c4-899a57ff9e88",
   "metadata": {},
   "source": [
    "### 3. List Comprehension – A Clean Way to Write Loops\n",
    "\n",
    "List comprehension allows you to generate a new list from an existing iterable in a **single, readable line** of code.\n",
    "\n",
    "#### General Syntax:\n",
    "```python\n",
    "[expression for item in iterable if condition]\n",
    "```\n",
    "\n",
    "#### Example 1: Generate Squares"
   ]
  },
  {
   "cell_type": "code",
   "execution_count": 4,
   "id": "de9772d2-2f6c-414a-993c-b3362638d92d",
   "metadata": {},
   "outputs": [
    {
     "name": "stdout",
     "output_type": "stream",
     "text": [
      "[0, 1, 4, 9, 16]\n",
      "[0, 1, 4, 9, 16]\n"
     ]
    }
   ],
   "source": [
    "# Traditional loop\n",
    "squares = []\n",
    "for x in range(5):\n",
    "    squares.append(x**2)\n",
    "print(squares)\n",
    "\n",
    "# List comprehension (same result)\n",
    "squares_comp = [x**2 for x in range(5)]\n",
    "print(squares_comp)"
   ]
  },
  {
   "cell_type": "markdown",
   "id": "3fefb919-82a2-4d59-8246-a90707a0fd30",
   "metadata": {},
   "source": [
    "### Example 2: Filtering with a Condition"
   ]
  },
  {
   "cell_type": "code",
   "execution_count": 6,
   "id": "84513da8-c494-4315-bde3-f0b178317edb",
   "metadata": {},
   "outputs": [
    {
     "name": "stdout",
     "output_type": "stream",
     "text": [
      "[0, 4, 16, 36, 64]\n"
     ]
    }
   ],
   "source": [
    "even_squares = [x**2 for x in range(10) if x % 2 == 0]\n",
    "print(even_squares)  # Output: [0, 4, 16, 36, 64]"
   ]
  },
  {
   "cell_type": "code",
   "execution_count": 5,
   "id": "fe68fa5b-eb04-428d-a051-1834313d0a85",
   "metadata": {},
   "outputs": [
    {
     "name": "stdout",
     "output_type": "stream",
     "text": [
      "[0, 4, 16, 36, 64]\n"
     ]
    }
   ],
   "source": [
    "# Get squares of even numbers only\n",
    "even_squares = [x**2 for x in range(10) if x % 2 == 0]\n",
    "print(even_squares)"
   ]
  },
  {
   "cell_type": "markdown",
   "id": "fb44528e-8894-4ae4-aa7b-a5f4cab59ce9",
   "metadata": {},
   "source": [
    "> List comprehensions are powerful, but avoid making them too complex (e.g., nested loops with multiple conditions). If it looks unreadable—consider using regular loops instead."
   ]
  },
  {
   "cell_type": "markdown",
   "id": "7eccaf0c-4cd3-4c23-a8be-cdcf5c90fd04",
   "metadata": {},
   "source": [
    "#### Task 3: Cleaning Survey Responses with List Comprehension"
   ]
  },
  {
   "cell_type": "markdown",
   "id": "dcab30a3-48d9-4f39-ad34-ff77da696f2a",
   "metadata": {},
   "source": [
    "You received a list of survey ratings from a short feedback form. Some participants skipped the question, and those are marked as `None`.\n",
    "\n",
    "##### Instructions:\n",
    "1. Use list comprehension to remove all `None` values from the list.\n",
    "2. Store the cleaned responses in a new list.\n",
    "3. Calculate the average of the valid responses."
   ]
  },
  {
   "cell_type": "code",
   "execution_count": 8,
   "id": "9741cf91-0299-471b-855e-43f158fffce0",
   "metadata": {},
   "outputs": [],
   "source": [
    "responses = [4, 5, None, 3, 4, None, 5, 2]"
   ]
  },
  {
   "cell_type": "code",
   "execution_count": 10,
   "id": "6e2a629b-5c3a-4513-bff6-66049d0f0838",
   "metadata": {},
   "outputs": [
    {
     "name": "stdout",
     "output_type": "stream",
     "text": [
      "Cleaned responses: [4, 5, 3, 4, 5, 2]\n",
      "Average rating: 3.83\n"
     ]
    }
   ],
   "source": [
    "# Original responses with missing values\n",
    "responses = [4, 5, None, 3, 4, None, 5, 2]\n",
    "\n",
    "# List comprehension to filter out None values\n",
    "valid_responses = [r for r in responses if r is not None]\n",
    "\n",
    "# Calculate average of valid responses\n",
    "average = sum(valid_responses) / len(valid_responses)\n",
    "\n",
    "print(\"Cleaned responses:\", valid_responses)\n",
    "print(\"Average rating:\", round(average, 2))"
   ]
  },
  {
   "cell_type": "markdown",
   "id": "3167fcdd-6985-406b-8ba7-7939501007bf",
   "metadata": {},
   "source": [
    ">- **List comprehension** is concise and improves readability, especially when performing simple filtering or transformation tasks.\n",
    ">- If missing values were `0`, you'd need a different condition (`if r != 0`)—but that could exclude legitimate `0` ratings depending on context.\n",
    ">- For more complex operations (e.g., multiple conditions or nested loops), regular `for` loops may still be better for clarity.\n",
    "\n",
    "💡 Use list comprehension when the logic is simple and clearly expressible in one line. If it starts getting hard to read—break it into steps!"
   ]
  },
  {
   "cell_type": "markdown",
   "id": "7df8f760-fdc2-4ca5-8910-369960a3fd4a",
   "metadata": {},
   "source": [
    "### 4. Functions – Reusable Code Blocks"
   ]
  },
  {
   "cell_type": "markdown",
   "id": "533af502-be32-4696-9c30-367f1aa29268",
   "metadata": {},
   "source": [
    "Functions let you define blocks of code that you can call many times.\n",
    "\n",
    "#### General Syntax:\n",
    "```python\n",
    "def function_name(parameters):\n",
    "    # code block\n",
    "    return result\n",
    "```\n",
    "\n",
    "#### Example:"
   ]
  },
  {
   "cell_type": "code",
   "execution_count": 47,
   "id": "cf873381-fddd-45a1-b596-1f53dd7ec6f5",
   "metadata": {},
   "outputs": [
    {
     "name": "stdout",
     "output_type": "stream",
     "text": [
      "Hello, Lina!\n"
     ]
    }
   ],
   "source": [
    "def greet(name):\n",
    "    return f\"Hello, {name}!\"\n",
    "\n",
    "print(greet(\"Lina\"))"
   ]
  },
  {
   "cell_type": "markdown",
   "id": "c970091a-78d7-42a4-9a56-d6bc46739508",
   "metadata": {},
   "source": [
    "#### Task 4: Temperature Converter"
   ]
  },
  {
   "cell_type": "markdown",
   "id": "23bca1ac-bc14-4e6a-bd5d-984b17db4c80",
   "metadata": {},
   "source": [
    "**Instructions:**\n",
    "- Create a function `convert_temp(celsius)`\n",
    "- Convert Celsius to Fahrenheit using `(celsius × 9/5) + 32`\n",
    "- Return a message if input is not a number"
   ]
  },
  {
   "cell_type": "code",
   "execution_count": 48,
   "id": "1d7cf9b8-0686-4e6b-9e81-3a806fdb29c1",
   "metadata": {},
   "outputs": [
    {
     "name": "stdout",
     "output_type": "stream",
     "text": [
      "98.6\n"
     ]
    }
   ],
   "source": [
    "def convert_temp(celsius):\n",
    "    if isinstance(celsius, (int, float)):\n",
    "        return (celsius * 9/5) + 32\n",
    "    else:\n",
    "        return \"Please enter a numeric value.\"\n",
    "\n",
    "# Try with: 0, 37, -40\n",
    "print(convert_temp(37))"
   ]
  },
  {
   "cell_type": "markdown",
   "id": "241a1916-4146-41e9-8af2-a700ba453f4e",
   "metadata": {},
   "source": [
    "> - Add a parameter to convert in both directions as a challenge.\n",
    "> - Use return instead of print for reusable functions. Input validation helps avoid errors.\n"
   ]
  },
  {
   "cell_type": "markdown",
   "id": "4670bbac-c992-47ab-a68e-2181f19f2c01",
   "metadata": {},
   "source": [
    "#### Conditional Function – Even or Odd Checker\n",
    "\n",
    "##### Task 5: Even, Odd, or Prime"
   ]
  },
  {
   "cell_type": "markdown",
   "id": "795d3c43-6e89-4803-9f15-c5bc511dbee3",
   "metadata": {},
   "source": [
    "**Instructions:**\n",
    "- Create a function that:\n",
    "  - Returns \"Zero is neither even nor odd\" if num == 0\n",
    "  - Returns \"Even\" or \"Odd\" otherwise\n",
    "  - Bonus: Also check if the number is prime"
   ]
  },
  {
   "cell_type": "code",
   "execution_count": 52,
   "id": "1b8f36f6-f251-4a6c-9ced-9e7a17bb2f65",
   "metadata": {},
   "outputs": [
    {
     "name": "stdout",
     "output_type": "stream",
     "text": [
      "Even\n",
      "Odd and Prime\n"
     ]
    }
   ],
   "source": [
    "def check_number(num):\n",
    "    if num == 0:\n",
    "        return \"Zero is neither even nor odd\"\n",
    "    elif num % 2 == 0:\n",
    "        result = \"Even\"\n",
    "    else:\n",
    "        result = \"Odd\"\n",
    "\n",
    "    # Bonus: Check if prime\n",
    "    if num > 1:\n",
    "        for i in range(2, num):\n",
    "            if num % i == 0:\n",
    "                break\n",
    "        else:\n",
    "            result += \" and Prime\"\n",
    "\n",
    "    return result\n",
    "\n",
    "print(check_number(4))\n",
    "print(check_number(5))"
   ]
  },
  {
   "cell_type": "markdown",
   "id": "dcb480d1-feea-47d6-b512-f3dd4cbcaf2d",
   "metadata": {},
   "source": [
    "> -Try different numbers: 0, 2, 4, 7, 9\n",
    "> - We combine multiple checks in one function. Use `else` with `for` only if no break occurs (i.e., prime)."
   ]
  },
  {
   "cell_type": "markdown",
   "id": "988684a7-e9cb-4a0e-8c01-2779ab257daf",
   "metadata": {},
   "source": [
    "#### Loops + Logic – First Repeated Word\n",
    "\n",
    "##### Task 6: Finding First Repeated Word"
   ]
  },
  {
   "cell_type": "markdown",
   "id": "3537b87f-2e9c-465f-8da4-4a40c483e214",
   "metadata": {},
   "source": [
    "**Instructions:**\n",
    "- Accept a sentence as input\n",
    "- Convert to lowercase and split into words\n",
    "- Use a dictionary to track seen words\n",
    "- Return the first repeated word or indicate none"
   ]
  },
  {
   "cell_type": "code",
   "execution_count": 53,
   "id": "0d64df02-09ba-4da1-b7f8-5c32b69e62cc",
   "metadata": {},
   "outputs": [
    {
     "name": "stdout",
     "output_type": "stream",
     "text": [
      "this\n"
     ]
    }
   ],
   "source": [
    "def first_repeat(sentence):\n",
    "    seen = {}\n",
    "    for word in sentence.lower().split():\n",
    "        if word in seen:\n",
    "            return word\n",
    "        seen[word] = True\n",
    "    return \"No repeats\"\n",
    "\n",
    "# Try this:\n",
    "print(first_repeat(\"This is a test. This test is simple.\"))"
   ]
  },
  {
   "cell_type": "markdown",
   "id": "2bbbf625-afa3-4311-816a-1933d48fd7ea",
   "metadata": {},
   "source": [
    "> - Case-insensitive comparison is key for clean analysis.\n",
    "> - Dictionaries provide fast lookups. Lowercasing avoids case mismatch."
   ]
  },
  {
   "cell_type": "markdown",
   "id": "b7889a9e-6d5d-409c-beba-019e4320768f",
   "metadata": {},
   "source": [
    "### Activity 3 – Input Analyzer"
   ]
  },
  {
   "cell_type": "markdown",
   "id": "60e003f8-d95d-4277-bee8-10200e2c7c34",
   "metadata": {},
   "source": [
    "#### Scenario:\n",
    "You're building a tool to analyze a sentence.\n",
    "\n",
    "#### Requirements:\n",
    "- Count number of words\n",
    "- Check if sentence contains the word \"data\"\n",
    "- Return the first repeated word\n",
    "- Validate input type"
   ]
  },
  {
   "cell_type": "code",
   "execution_count": 54,
   "id": "e20ddcf2-fabc-4fcf-8fa1-62a0efb68941",
   "metadata": {},
   "outputs": [
    {
     "name": "stdout",
     "output_type": "stream",
     "text": [
      "{'Word Count': 7, \"Contains 'data'\": True, 'First Repeated Word': 'data'}\n"
     ]
    }
   ],
   "source": [
    "def analyze_input(text):\n",
    "    if not isinstance(text, str) or not text:\n",
    "        return \"Invalid input\"\n",
    "\n",
    "    words = text.lower().split()\n",
    "    word_count = len(words)\n",
    "    contains_data = \"data\" in words\n",
    "\n",
    "    seen = {}\n",
    "    first_repeat = None\n",
    "    for word in words:\n",
    "        if word in seen:\n",
    "            first_repeat = word\n",
    "            break\n",
    "        seen[word] = True\n",
    "\n",
    "    return {\n",
    "        \"Word Count\": word_count,\n",
    "        \"Contains 'data'\": contains_data,\n",
    "        \"First Repeated Word\": first_repeat or \"None\"\n",
    "    }\n",
    "\n",
    "print(analyze_input(\"Data is power and data drives decisions\"))"
   ]
  },
  {
   "cell_type": "markdown",
   "id": "815baa09-7d2d-4193-b87f-0296a44f259c",
   "metadata": {},
   "source": [
    "> Combine everything: input validation, condition checking, string processing, and function reuse."
   ]
  },
  {
   "cell_type": "markdown",
   "id": "c27c1369-10fc-46d0-bc35-300f271cae57",
   "metadata": {},
   "source": [
    "### Summary\n",
    "- Use `if` statements to make decisions.\n",
    "- Use `for` and `while` loops to repeat logic.\n",
    "- Use list comprehension to simplify loop-based list creation and filtering.\n",
    "- Functions help **reuse** and **organize** code.\n",
    "- You can combine logic, loops, list comprehensions and functions for powerful automation.\n",
    "\n",
    "Explore the **W3Schools Python Control Flow and Functions** for further reference:\n",
    "- [Python If Else](https://www.w3schools.com/python/gloss_python_else.asp)\n",
    "- [Python For Loops](https://www.w3schools.com/python/python_for_loops.asp)\n",
    "- [Python While Loops](https://www.w3schools.com/python/python_while_loops.asp)\n",
    "- [Python - List Comprehension](https://www.w3schools.com/python/python_lists_comprehension.asp)\n",
    "- [Python Functions](https://www.w3schools.com/python/python_functions.asp)\n",
    "\n",
    "✅ You are now ready to start building real programs that make decisions, analyze text, and reuse logic efficiently!"
   ]
  },
  {
   "cell_type": "markdown",
   "id": "659bd675-66ad-46e5-9923-ba2e04a56e4b",
   "metadata": {},
   "source": [
    "#### **Keep Practicing!**\n",
    "\n",
    "> ✨ *Every expert was once a beginner. The key to mastering Python is consistency—keep practicing, keep breaking things, and keep fixing them. With every small project, every challenge you solve, you're one step closer to becoming a confident data scientist.*  \n",
    ">\n",
    "> 💡 *Try modifying the tasks in this notebook, challenge yourself to build something new, and explore more on platforms like W3Schools, Kaggle, or your own datasets.*  \n",
    ">\n",
    "> **You’ve got this. Keep going! 💪**"
   ]
  },
  {
   "cell_type": "markdown",
   "id": "fef3a781-ce30-4ec0-a8b4-01ce50344d94",
   "metadata": {},
   "source": [
    "---"
   ]
  }
 ],
 "metadata": {
  "kernelspec": {
   "display_name": "Python 3 (ipykernel)",
   "language": "python",
   "name": "python3"
  },
  "language_info": {
   "codemirror_mode": {
    "name": "ipython",
    "version": 3
   },
   "file_extension": ".py",
   "mimetype": "text/x-python",
   "name": "python",
   "nbconvert_exporter": "python",
   "pygments_lexer": "ipython3",
   "version": "3.9.12"
  }
 },
 "nbformat": 4,
 "nbformat_minor": 5
}
