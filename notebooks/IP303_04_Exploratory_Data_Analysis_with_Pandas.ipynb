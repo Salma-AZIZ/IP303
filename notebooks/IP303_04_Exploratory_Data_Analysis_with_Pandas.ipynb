{
 "cells": [
  {
   "cell_type": "markdown",
   "id": "b1e69438-d9bf-414f-9e50-6f4aeea4db18",
   "metadata": {},
   "source": [
    "# Exploratory Data Analysis with Pandas"
   ]
  },
  {
   "cell_type": "markdown",
   "id": "07e996dc-7de9-42db-9a3f-a11c8ad347da",
   "metadata": {},
   "source": [
    "## Introduction\n",
    "Welcome to your first full Exploratory Data Analysis (EDA) notebook using **pandas** and **real-world data**! In this notebook, you'll work with the **Supermarket Sales dataset** to:\n",
    "- Understand your data's structure\n",
    "- Clean and prepare your data\n",
    "- Calculate descriptive statistics for both numeric and categorical columns\n",
    "- Explore patterns, outliers, and insights using pandas\n",
    "\n",
    "This is a foundational skill every data scientist and analyst needs. Let’s get started!\n",
    "\n",
    "---"
   ]
  },
  {
   "cell_type": "markdown",
   "id": "2ca6b1ee-e50f-4407-93ed-1bad0871b435",
   "metadata": {},
   "source": [
    "### 📁 Dataset: Supermarket Sales\n",
    "#### Download link: https://www.kaggle.com/datasets/aungpyaeap/supermarket-sales\n"
   ]
  },
  {
   "cell_type": "code",
   "execution_count": 2,
   "id": "e7ca664b-2b79-4649-a4b6-8eaa2c4f6be4",
   "metadata": {},
   "outputs": [],
   "source": [
    "import pandas as pd\n",
    "import numpy as np"
   ]
  },
  {
   "cell_type": "code",
   "execution_count": 3,
   "id": "6b085faa-e5f1-4190-a8a0-563726a53315",
   "metadata": {},
   "outputs": [],
   "source": [
    "# Load dataset\n",
    "df = pd.read_csv('../data/supermarket_sales.csv')"
   ]
  },
  {
   "cell_type": "markdown",
   "id": "26d00343-b805-465c-9f73-30c4a55ad0ef",
   "metadata": {},
   "source": [
    "---\n",
    "## 🔍 Section A: Inspecting the Dataset"
   ]
  },
  {
   "cell_type": "markdown",
   "id": "6d1a5583-86a2-4c49-97c3-c767cc0c947a",
   "metadata": {},
   "source": [
    "### 🔢 Objective:\n",
    "Understand the structure, shape, and column types of the dataset.\n",
    "\n",
    "### 📅 Tasks:\n",
    "- Load and preview the data\n",
    "- Display dataset info and dimensions\n",
    "- Rename a column for easier access"
   ]
  },
  {
   "cell_type": "code",
   "execution_count": 4,
   "id": "71a1ecfe-e1d2-45b7-944c-0dd390f23bc6",
   "metadata": {},
   "outputs": [
    {
     "data": {
      "text/html": [
       "<div>\n",
       "<style scoped>\n",
       "    .dataframe tbody tr th:only-of-type {\n",
       "        vertical-align: middle;\n",
       "    }\n",
       "\n",
       "    .dataframe tbody tr th {\n",
       "        vertical-align: top;\n",
       "    }\n",
       "\n",
       "    .dataframe thead th {\n",
       "        text-align: right;\n",
       "    }\n",
       "</style>\n",
       "<table border=\"1\" class=\"dataframe\">\n",
       "  <thead>\n",
       "    <tr style=\"text-align: right;\">\n",
       "      <th></th>\n",
       "      <th>Invoice ID</th>\n",
       "      <th>Branch</th>\n",
       "      <th>City</th>\n",
       "      <th>Customer type</th>\n",
       "      <th>Gender</th>\n",
       "      <th>Product line</th>\n",
       "      <th>Unit price</th>\n",
       "      <th>Quantity</th>\n",
       "      <th>Tax 5%</th>\n",
       "      <th>Total</th>\n",
       "      <th>Date</th>\n",
       "      <th>Time</th>\n",
       "      <th>Payment</th>\n",
       "      <th>cogs</th>\n",
       "      <th>gross margin percentage</th>\n",
       "      <th>gross income</th>\n",
       "      <th>Rating</th>\n",
       "    </tr>\n",
       "  </thead>\n",
       "  <tbody>\n",
       "    <tr>\n",
       "      <th>0</th>\n",
       "      <td>750-67-8428</td>\n",
       "      <td>A</td>\n",
       "      <td>Yangon</td>\n",
       "      <td>Member</td>\n",
       "      <td>Female</td>\n",
       "      <td>Health and beauty</td>\n",
       "      <td>74.69</td>\n",
       "      <td>7</td>\n",
       "      <td>26.1415</td>\n",
       "      <td>548.9715</td>\n",
       "      <td>1/5/2019</td>\n",
       "      <td>13:08</td>\n",
       "      <td>Ewallet</td>\n",
       "      <td>522.83</td>\n",
       "      <td>4.761905</td>\n",
       "      <td>26.1415</td>\n",
       "      <td>9.1</td>\n",
       "    </tr>\n",
       "    <tr>\n",
       "      <th>1</th>\n",
       "      <td>226-31-3081</td>\n",
       "      <td>C</td>\n",
       "      <td>Naypyitaw</td>\n",
       "      <td>Normal</td>\n",
       "      <td>Female</td>\n",
       "      <td>Electronic accessories</td>\n",
       "      <td>15.28</td>\n",
       "      <td>5</td>\n",
       "      <td>3.8200</td>\n",
       "      <td>80.2200</td>\n",
       "      <td>3/8/2019</td>\n",
       "      <td>10:29</td>\n",
       "      <td>Cash</td>\n",
       "      <td>76.40</td>\n",
       "      <td>4.761905</td>\n",
       "      <td>3.8200</td>\n",
       "      <td>9.6</td>\n",
       "    </tr>\n",
       "    <tr>\n",
       "      <th>2</th>\n",
       "      <td>631-41-3108</td>\n",
       "      <td>A</td>\n",
       "      <td>Yangon</td>\n",
       "      <td>Normal</td>\n",
       "      <td>Male</td>\n",
       "      <td>Home and lifestyle</td>\n",
       "      <td>46.33</td>\n",
       "      <td>7</td>\n",
       "      <td>16.2155</td>\n",
       "      <td>340.5255</td>\n",
       "      <td>3/3/2019</td>\n",
       "      <td>13:23</td>\n",
       "      <td>Credit card</td>\n",
       "      <td>324.31</td>\n",
       "      <td>4.761905</td>\n",
       "      <td>16.2155</td>\n",
       "      <td>7.4</td>\n",
       "    </tr>\n",
       "    <tr>\n",
       "      <th>3</th>\n",
       "      <td>123-19-1176</td>\n",
       "      <td>A</td>\n",
       "      <td>Yangon</td>\n",
       "      <td>Member</td>\n",
       "      <td>Male</td>\n",
       "      <td>Health and beauty</td>\n",
       "      <td>58.22</td>\n",
       "      <td>8</td>\n",
       "      <td>23.2880</td>\n",
       "      <td>489.0480</td>\n",
       "      <td>1/27/2019</td>\n",
       "      <td>20:33</td>\n",
       "      <td>Ewallet</td>\n",
       "      <td>465.76</td>\n",
       "      <td>4.761905</td>\n",
       "      <td>23.2880</td>\n",
       "      <td>8.4</td>\n",
       "    </tr>\n",
       "    <tr>\n",
       "      <th>4</th>\n",
       "      <td>373-73-7910</td>\n",
       "      <td>A</td>\n",
       "      <td>Yangon</td>\n",
       "      <td>Normal</td>\n",
       "      <td>Male</td>\n",
       "      <td>Sports and travel</td>\n",
       "      <td>86.31</td>\n",
       "      <td>7</td>\n",
       "      <td>30.2085</td>\n",
       "      <td>634.3785</td>\n",
       "      <td>2/8/2019</td>\n",
       "      <td>10:37</td>\n",
       "      <td>Ewallet</td>\n",
       "      <td>604.17</td>\n",
       "      <td>4.761905</td>\n",
       "      <td>30.2085</td>\n",
       "      <td>5.3</td>\n",
       "    </tr>\n",
       "    <tr>\n",
       "      <th>5</th>\n",
       "      <td>699-14-3026</td>\n",
       "      <td>C</td>\n",
       "      <td>Naypyitaw</td>\n",
       "      <td>Normal</td>\n",
       "      <td>Male</td>\n",
       "      <td>Electronic accessories</td>\n",
       "      <td>85.39</td>\n",
       "      <td>7</td>\n",
       "      <td>29.8865</td>\n",
       "      <td>627.6165</td>\n",
       "      <td>3/25/2019</td>\n",
       "      <td>18:30</td>\n",
       "      <td>Ewallet</td>\n",
       "      <td>597.73</td>\n",
       "      <td>4.761905</td>\n",
       "      <td>29.8865</td>\n",
       "      <td>4.1</td>\n",
       "    </tr>\n",
       "    <tr>\n",
       "      <th>6</th>\n",
       "      <td>355-53-5943</td>\n",
       "      <td>A</td>\n",
       "      <td>Yangon</td>\n",
       "      <td>Member</td>\n",
       "      <td>Female</td>\n",
       "      <td>Electronic accessories</td>\n",
       "      <td>68.84</td>\n",
       "      <td>6</td>\n",
       "      <td>20.6520</td>\n",
       "      <td>433.6920</td>\n",
       "      <td>2/25/2019</td>\n",
       "      <td>14:36</td>\n",
       "      <td>Ewallet</td>\n",
       "      <td>413.04</td>\n",
       "      <td>4.761905</td>\n",
       "      <td>20.6520</td>\n",
       "      <td>5.8</td>\n",
       "    </tr>\n",
       "    <tr>\n",
       "      <th>7</th>\n",
       "      <td>315-22-5665</td>\n",
       "      <td>C</td>\n",
       "      <td>Naypyitaw</td>\n",
       "      <td>Normal</td>\n",
       "      <td>Female</td>\n",
       "      <td>Home and lifestyle</td>\n",
       "      <td>73.56</td>\n",
       "      <td>10</td>\n",
       "      <td>36.7800</td>\n",
       "      <td>772.3800</td>\n",
       "      <td>2/24/2019</td>\n",
       "      <td>11:38</td>\n",
       "      <td>Ewallet</td>\n",
       "      <td>735.60</td>\n",
       "      <td>4.761905</td>\n",
       "      <td>36.7800</td>\n",
       "      <td>8.0</td>\n",
       "    </tr>\n",
       "    <tr>\n",
       "      <th>8</th>\n",
       "      <td>665-32-9167</td>\n",
       "      <td>A</td>\n",
       "      <td>Yangon</td>\n",
       "      <td>Member</td>\n",
       "      <td>Female</td>\n",
       "      <td>Health and beauty</td>\n",
       "      <td>36.26</td>\n",
       "      <td>2</td>\n",
       "      <td>3.6260</td>\n",
       "      <td>76.1460</td>\n",
       "      <td>1/10/2019</td>\n",
       "      <td>17:15</td>\n",
       "      <td>Credit card</td>\n",
       "      <td>72.52</td>\n",
       "      <td>4.761905</td>\n",
       "      <td>3.6260</td>\n",
       "      <td>7.2</td>\n",
       "    </tr>\n",
       "    <tr>\n",
       "      <th>9</th>\n",
       "      <td>692-92-5582</td>\n",
       "      <td>B</td>\n",
       "      <td>Mandalay</td>\n",
       "      <td>Member</td>\n",
       "      <td>Female</td>\n",
       "      <td>Food and beverages</td>\n",
       "      <td>54.84</td>\n",
       "      <td>3</td>\n",
       "      <td>8.2260</td>\n",
       "      <td>172.7460</td>\n",
       "      <td>2/20/2019</td>\n",
       "      <td>13:27</td>\n",
       "      <td>Credit card</td>\n",
       "      <td>164.52</td>\n",
       "      <td>4.761905</td>\n",
       "      <td>8.2260</td>\n",
       "      <td>5.9</td>\n",
       "    </tr>\n",
       "  </tbody>\n",
       "</table>\n",
       "</div>"
      ],
      "text/plain": [
       "    Invoice ID Branch       City Customer type  Gender  \\\n",
       "0  750-67-8428      A     Yangon        Member  Female   \n",
       "1  226-31-3081      C  Naypyitaw        Normal  Female   \n",
       "2  631-41-3108      A     Yangon        Normal    Male   \n",
       "3  123-19-1176      A     Yangon        Member    Male   \n",
       "4  373-73-7910      A     Yangon        Normal    Male   \n",
       "5  699-14-3026      C  Naypyitaw        Normal    Male   \n",
       "6  355-53-5943      A     Yangon        Member  Female   \n",
       "7  315-22-5665      C  Naypyitaw        Normal  Female   \n",
       "8  665-32-9167      A     Yangon        Member  Female   \n",
       "9  692-92-5582      B   Mandalay        Member  Female   \n",
       "\n",
       "             Product line  Unit price  Quantity   Tax 5%     Total       Date  \\\n",
       "0       Health and beauty       74.69         7  26.1415  548.9715   1/5/2019   \n",
       "1  Electronic accessories       15.28         5   3.8200   80.2200   3/8/2019   \n",
       "2      Home and lifestyle       46.33         7  16.2155  340.5255   3/3/2019   \n",
       "3       Health and beauty       58.22         8  23.2880  489.0480  1/27/2019   \n",
       "4       Sports and travel       86.31         7  30.2085  634.3785   2/8/2019   \n",
       "5  Electronic accessories       85.39         7  29.8865  627.6165  3/25/2019   \n",
       "6  Electronic accessories       68.84         6  20.6520  433.6920  2/25/2019   \n",
       "7      Home and lifestyle       73.56        10  36.7800  772.3800  2/24/2019   \n",
       "8       Health and beauty       36.26         2   3.6260   76.1460  1/10/2019   \n",
       "9      Food and beverages       54.84         3   8.2260  172.7460  2/20/2019   \n",
       "\n",
       "    Time      Payment    cogs  gross margin percentage  gross income  Rating  \n",
       "0  13:08      Ewallet  522.83                 4.761905       26.1415     9.1  \n",
       "1  10:29         Cash   76.40                 4.761905        3.8200     9.6  \n",
       "2  13:23  Credit card  324.31                 4.761905       16.2155     7.4  \n",
       "3  20:33      Ewallet  465.76                 4.761905       23.2880     8.4  \n",
       "4  10:37      Ewallet  604.17                 4.761905       30.2085     5.3  \n",
       "5  18:30      Ewallet  597.73                 4.761905       29.8865     4.1  \n",
       "6  14:36      Ewallet  413.04                 4.761905       20.6520     5.8  \n",
       "7  11:38      Ewallet  735.60                 4.761905       36.7800     8.0  \n",
       "8  17:15  Credit card   72.52                 4.761905        3.6260     7.2  \n",
       "9  13:27  Credit card  164.52                 4.761905        8.2260     5.9  "
      ]
     },
     "execution_count": 4,
     "metadata": {},
     "output_type": "execute_result"
    }
   ],
   "source": [
    "# Display first 10 rows\n",
    "df.head(10)"
   ]
  },
  {
   "cell_type": "markdown",
   "id": "1d0da17d-8894-41cb-ad06-f27592b8e73c",
   "metadata": {},
   "source": [
    "> The first 10 rows show a diverse set of transactions across different cities, product lines, and payment methods."
   ]
  },
  {
   "cell_type": "code",
   "execution_count": 5,
   "id": "52e31687-d6c8-4b90-9fd7-658db56cb29f",
   "metadata": {},
   "outputs": [
    {
     "name": "stdout",
     "output_type": "stream",
     "text": [
      "<class 'pandas.core.frame.DataFrame'>\n",
      "RangeIndex: 1000 entries, 0 to 999\n",
      "Data columns (total 17 columns):\n",
      " #   Column                   Non-Null Count  Dtype  \n",
      "---  ------                   --------------  -----  \n",
      " 0   Invoice ID               1000 non-null   object \n",
      " 1   Branch                   1000 non-null   object \n",
      " 2   City                     1000 non-null   object \n",
      " 3   Customer type            1000 non-null   object \n",
      " 4   Gender                   1000 non-null   object \n",
      " 5   Product line             1000 non-null   object \n",
      " 6   Unit price               1000 non-null   float64\n",
      " 7   Quantity                 1000 non-null   int64  \n",
      " 8   Tax 5%                   1000 non-null   float64\n",
      " 9   Total                    1000 non-null   float64\n",
      " 10  Date                     1000 non-null   object \n",
      " 11  Time                     1000 non-null   object \n",
      " 12  Payment                  1000 non-null   object \n",
      " 13  cogs                     1000 non-null   float64\n",
      " 14  gross margin percentage  1000 non-null   float64\n",
      " 15  gross income             1000 non-null   float64\n",
      " 16  Rating                   1000 non-null   float64\n",
      "dtypes: float64(7), int64(1), object(9)\n",
      "memory usage: 132.9+ KB\n"
     ]
    }
   ],
   "source": [
    "# Dataset structure\n",
    "df.info()"
   ]
  },
  {
   "cell_type": "markdown",
   "id": "a4b294ce-ef38-4817-bd45-26802fce23aa",
   "metadata": {},
   "source": [
    ">There are 1000 entries with 17 columns, and no missing values. Data types are appropriate except for 'Date' which should be converted."
   ]
  },
  {
   "cell_type": "code",
   "execution_count": 6,
   "id": "1be2d717-2799-4fcf-a588-bf8487f4783e",
   "metadata": {},
   "outputs": [
    {
     "data": {
      "text/plain": [
       "(1000, 17)"
      ]
     },
     "execution_count": 6,
     "metadata": {},
     "output_type": "execute_result"
    }
   ],
   "source": [
    "df.shape"
   ]
  },
  {
   "cell_type": "markdown",
   "id": "2cb50176-cc07-4cb6-abe3-6a49cfdcfbb1",
   "metadata": {},
   "source": [
    "> (1000, 17): This confirms 1000 rows and 17 columns."
   ]
  },
  {
   "cell_type": "code",
   "execution_count": 8,
   "id": "be9561f0-5dbf-4245-af73-c842bb7842ee",
   "metadata": {},
   "outputs": [
    {
     "name": "stdout",
     "output_type": "stream",
     "text": [
      "\n",
      "Columns: ['Invoice ID', 'Branch', 'City', 'Customer type', 'Gender', 'Product line', 'Unit price', 'Quantity', 'Tax 5%', 'Total', 'Date', 'Time', 'Payment', 'cogs', 'gross margin percentage', 'gross income', 'Rating']\n"
     ]
    }
   ],
   "source": [
    "print(\"\\nColumns:\", df.columns.tolist())"
   ]
  },
  {
   "cell_type": "markdown",
   "id": "a4de4126-194b-4a92-bbf0-b51fbbc27086",
   "metadata": {},
   "source": [
    "> Columns cover customer info, product details, totals, and metadata like date/time and branch info."
   ]
  },
  {
   "cell_type": "code",
   "execution_count": 9,
   "id": "c842797d-bf3f-42ef-bd10-89878f9a1a3f",
   "metadata": {},
   "outputs": [
    {
     "data": {
      "text/plain": [
       "Index(['Invoice ID', 'Branch', 'City', 'Customer type', 'Gender',\n",
       "       'ProductLine', 'Unit price', 'Quantity', 'Tax 5%', 'Total', 'Date',\n",
       "       'Time', 'Payment', 'cogs', 'gross margin percentage', 'gross income',\n",
       "       'Rating'],\n",
       "      dtype='object')"
      ]
     },
     "execution_count": 9,
     "metadata": {},
     "output_type": "execute_result"
    }
   ],
   "source": [
    "# Rename column\n",
    "df.rename(columns={'Product line': 'ProductLine'}, inplace=True)\n",
    "df.columns"
   ]
  },
  {
   "cell_type": "markdown",
   "id": "cbb8fc84-eca1-450f-b7e7-aa271a47f078",
   "metadata": {},
   "source": [
    "> Renaming for easier access in code. Column names are now more consistent."
   ]
  },
  {
   "cell_type": "markdown",
   "id": "0909fd9b-d78b-45fe-aee9-9a7a111ef0e7",
   "metadata": {},
   "source": [
    "> Based on the structure, the dataset is clean, complete, and provides both numerical and categorical features to analyze."
   ]
  },
  {
   "cell_type": "markdown",
   "id": "443def6e-850a-4040-a7f2-1184605ff6c7",
   "metadata": {},
   "source": [
    "---\n",
    "## 🧹 Section B: Clean the Data\n"
   ]
  },
  {
   "cell_type": "markdown",
   "id": "6a2da24c-c6dc-4104-bdc9-72948b12d49b",
   "metadata": {},
   "source": [
    "### 🔢 Objective:\n",
    "Identify and fix issues in the dataset like missing values, duplicates, or incorrect formats.\n",
    "\n",
    "### 📅 Tasks:\n",
    "- Check for missing values\n",
    "- Check for duplicates\n",
    "- Convert date column to datetime format"
   ]
  },
  {
   "cell_type": "code",
   "execution_count": 10,
   "id": "002a22cb-6688-48b7-820d-becb7910e90d",
   "metadata": {},
   "outputs": [
    {
     "data": {
      "text/plain": [
       "Invoice ID                 0\n",
       "Branch                     0\n",
       "City                       0\n",
       "Customer type              0\n",
       "Gender                     0\n",
       "ProductLine                0\n",
       "Unit price                 0\n",
       "Quantity                   0\n",
       "Tax 5%                     0\n",
       "Total                      0\n",
       "Date                       0\n",
       "Time                       0\n",
       "Payment                    0\n",
       "cogs                       0\n",
       "gross margin percentage    0\n",
       "gross income               0\n",
       "Rating                     0\n",
       "dtype: int64"
      ]
     },
     "execution_count": 10,
     "metadata": {},
     "output_type": "execute_result"
    }
   ],
   "source": [
    "# Check for missing values\n",
    "df.isnull().sum()"
   ]
  },
  {
   "cell_type": "markdown",
   "id": "a213e30e-47a4-472d-954b-4678420364a1",
   "metadata": {},
   "source": [
    ">No missing values in any column."
   ]
  },
  {
   "cell_type": "code",
   "execution_count": 11,
   "id": "5ec441c8-4c09-44b4-a5a1-2953d20c6602",
   "metadata": {},
   "outputs": [
    {
     "data": {
      "text/plain": [
       "0"
      ]
     },
     "execution_count": 11,
     "metadata": {},
     "output_type": "execute_result"
    }
   ],
   "source": [
    "# Check for duplicates\n",
    "df.duplicated().sum()"
   ]
  },
  {
   "cell_type": "markdown",
   "id": "a7fa34f4-913a-4c70-9eb4-df288df2bc1a",
   "metadata": {},
   "source": [
    "> There are no duplicated rows."
   ]
  },
  {
   "cell_type": "code",
   "execution_count": 12,
   "id": "5d2a135c-6ae6-4216-bed1-f4f6432d231a",
   "metadata": {},
   "outputs": [],
   "source": [
    "# Drop duplicates if any\n",
    "df = df.drop_duplicates()"
   ]
  },
  {
   "cell_type": "code",
   "execution_count": 13,
   "id": "538a7249-f9ab-4dd1-b9d2-fa4e93fe7c01",
   "metadata": {},
   "outputs": [
    {
     "name": "stdout",
     "output_type": "stream",
     "text": [
      "<class 'pandas.core.frame.DataFrame'>\n",
      "Int64Index: 1000 entries, 0 to 999\n",
      "Data columns (total 17 columns):\n",
      " #   Column                   Non-Null Count  Dtype         \n",
      "---  ------                   --------------  -----         \n",
      " 0   Invoice ID               1000 non-null   object        \n",
      " 1   Branch                   1000 non-null   object        \n",
      " 2   City                     1000 non-null   object        \n",
      " 3   Customer type            1000 non-null   object        \n",
      " 4   Gender                   1000 non-null   object        \n",
      " 5   ProductLine              1000 non-null   object        \n",
      " 6   Unit price               1000 non-null   float64       \n",
      " 7   Quantity                 1000 non-null   int64         \n",
      " 8   Tax 5%                   1000 non-null   float64       \n",
      " 9   Total                    1000 non-null   float64       \n",
      " 10  Date                     1000 non-null   datetime64[ns]\n",
      " 11  Time                     1000 non-null   object        \n",
      " 12  Payment                  1000 non-null   object        \n",
      " 13  cogs                     1000 non-null   float64       \n",
      " 14  gross margin percentage  1000 non-null   float64       \n",
      " 15  gross income             1000 non-null   float64       \n",
      " 16  Rating                   1000 non-null   float64       \n",
      "dtypes: datetime64[ns](1), float64(7), int64(1), object(8)\n",
      "memory usage: 140.6+ KB\n"
     ]
    }
   ],
   "source": [
    "# Convert Date to datetime\n",
    "df['Date'] = pd.to_datetime(df['Date'])\n",
    "df.info()"
   ]
  },
  {
   "cell_type": "markdown",
   "id": "6e59f4dd-8ade-4555-bcd2-cba40018f63d",
   "metadata": {},
   "source": [
    "> `Date` column successfully converted to datetime format."
   ]
  },
  {
   "cell_type": "markdown",
   "id": "49d801d7-2cb6-4320-9a7d-094035c366e8",
   "metadata": {},
   "source": [
    "> The data is already very clean. No nulls or duplicates. It's ready for analysis."
   ]
  },
  {
   "cell_type": "markdown",
   "id": "5a7a181f-bae2-430b-a19a-f9d027e00080",
   "metadata": {},
   "source": [
    "---\n",
    "## 📊 Section C: Descriptive Stats – Continuous Variables"
   ]
  },
  {
   "cell_type": "markdown",
   "id": "f490ade1-f71d-4094-a1f5-b5b2fb27bbb1",
   "metadata": {},
   "source": [
    "### 🔢 Objective:\n",
    "Generate summary statistics to understand distribution and spread of numeric variables.\n",
    "\n",
    "### 📅 Tasks:\n",
    "- Use `.describe()` to summarize numeric columns\n",
    "- Calculate mean, median, std, range, and percentiles manually for `Total`\n"
   ]
  },
  {
   "cell_type": "code",
   "execution_count": 14,
   "id": "aa44ee07-2ed4-4b5d-bbbc-d241e7c55fcf",
   "metadata": {},
   "outputs": [
    {
     "data": {
      "text/html": [
       "<div>\n",
       "<style scoped>\n",
       "    .dataframe tbody tr th:only-of-type {\n",
       "        vertical-align: middle;\n",
       "    }\n",
       "\n",
       "    .dataframe tbody tr th {\n",
       "        vertical-align: top;\n",
       "    }\n",
       "\n",
       "    .dataframe thead th {\n",
       "        text-align: right;\n",
       "    }\n",
       "</style>\n",
       "<table border=\"1\" class=\"dataframe\">\n",
       "  <thead>\n",
       "    <tr style=\"text-align: right;\">\n",
       "      <th></th>\n",
       "      <th>Total</th>\n",
       "      <th>Unit price</th>\n",
       "      <th>Rating</th>\n",
       "    </tr>\n",
       "  </thead>\n",
       "  <tbody>\n",
       "    <tr>\n",
       "      <th>count</th>\n",
       "      <td>1000.000000</td>\n",
       "      <td>1000.000000</td>\n",
       "      <td>1000.00000</td>\n",
       "    </tr>\n",
       "    <tr>\n",
       "      <th>mean</th>\n",
       "      <td>322.966749</td>\n",
       "      <td>55.672130</td>\n",
       "      <td>6.97270</td>\n",
       "    </tr>\n",
       "    <tr>\n",
       "      <th>std</th>\n",
       "      <td>245.885335</td>\n",
       "      <td>26.494628</td>\n",
       "      <td>1.71858</td>\n",
       "    </tr>\n",
       "    <tr>\n",
       "      <th>min</th>\n",
       "      <td>10.678500</td>\n",
       "      <td>10.080000</td>\n",
       "      <td>4.00000</td>\n",
       "    </tr>\n",
       "    <tr>\n",
       "      <th>25%</th>\n",
       "      <td>124.422375</td>\n",
       "      <td>32.875000</td>\n",
       "      <td>5.50000</td>\n",
       "    </tr>\n",
       "    <tr>\n",
       "      <th>50%</th>\n",
       "      <td>253.848000</td>\n",
       "      <td>55.230000</td>\n",
       "      <td>7.00000</td>\n",
       "    </tr>\n",
       "    <tr>\n",
       "      <th>75%</th>\n",
       "      <td>471.350250</td>\n",
       "      <td>77.935000</td>\n",
       "      <td>8.50000</td>\n",
       "    </tr>\n",
       "    <tr>\n",
       "      <th>max</th>\n",
       "      <td>1042.650000</td>\n",
       "      <td>99.960000</td>\n",
       "      <td>10.00000</td>\n",
       "    </tr>\n",
       "  </tbody>\n",
       "</table>\n",
       "</div>"
      ],
      "text/plain": [
       "             Total   Unit price      Rating\n",
       "count  1000.000000  1000.000000  1000.00000\n",
       "mean    322.966749    55.672130     6.97270\n",
       "std     245.885335    26.494628     1.71858\n",
       "min      10.678500    10.080000     4.00000\n",
       "25%     124.422375    32.875000     5.50000\n",
       "50%     253.848000    55.230000     7.00000\n",
       "75%     471.350250    77.935000     8.50000\n",
       "max    1042.650000    99.960000    10.00000"
      ]
     },
     "execution_count": 14,
     "metadata": {},
     "output_type": "execute_result"
    }
   ],
   "source": [
    "# Describe key numerical columns\n",
    "df[['Total', 'Unit price', 'Rating']].describe()"
   ]
  },
  {
   "cell_type": "markdown",
   "id": "ec2f3b8f-7960-433b-bd2b-8030f6b5122e",
   "metadata": {},
   "source": [
    "> `Total` ranges from around 10.68 to 1042.65, with a mean close to 322.97. `Rating` averages around 6.97."
   ]
  },
  {
   "cell_type": "code",
   "execution_count": 15,
   "id": "d6dad18f-b7d8-4fa4-a550-76fa4cc1312f",
   "metadata": {},
   "outputs": [
    {
     "name": "stdout",
     "output_type": "stream",
     "text": [
      "\n",
      "--- Descriptive Stats for 'Total' ---\n",
      "Mean: 322.96674900000005\n",
      "Median: 253.848\n",
      "Standard Deviation: 245.88533510097207\n",
      "Range: 1031.9715\n",
      "25th Percentile: 124.422375\n",
      "50th Percentile: 253.848\n",
      "75th Percentile: 471.35024999999996\n"
     ]
    }
   ],
   "source": [
    "# Manual calculations\n",
    "mean_total = df['Total'].mean()\n",
    "median_total = df['Total'].median()\n",
    "std_total = df['Total'].std()\n",
    "range_total = df['Total'].max() - df['Total'].min()\n",
    "q1 = df['Total'].quantile(0.25)\n",
    "q2 = df['Total'].quantile(0.5)\n",
    "q3 = df['Total'].quantile(0.75)\n",
    "\n",
    "print(\"\\n--- Descriptive Stats for 'Total' ---\")\n",
    "print(\"Mean:\", mean_total)\n",
    "print(\"Median:\", median_total)\n",
    "print(\"Standard Deviation:\", std_total)\n",
    "print(\"Range:\", range_total)\n",
    "print(\"25th Percentile:\", q1)\n",
    "print(\"50th Percentile:\", q2)\n",
    "print(\"75th Percentile:\", q3)"
   ]
  },
  {
   "cell_type": "markdown",
   "id": "5b08f2b9-a7b3-42c9-bd93-3d0808bfebb8",
   "metadata": {},
   "source": [
    "> The mean and median are both around 322.97, suggesting a fairly symmetrical distribution.\n",
    "> The standard deviation is about 248.74, showing moderate variability in purchase totals.\n",
    "> The range is large (~1032), indicating presence of high-value transactions.\n",
    "\n",
    "> Customers generally spend around 323 per purchase, but some transactions go much higher.\n",
    "> Most spending values fall between the 25th percentile (143.66) and 75th percentile (494.29).\n"
   ]
  },
  {
   "cell_type": "markdown",
   "id": "1f9f3477-6c64-424b-a66d-c5cb0a6925e4",
   "metadata": {},
   "source": [
    "---\n",
    "## 🔤 Section D: Descriptive Stats – Categorical Variables"
   ]
  },
  {
   "cell_type": "markdown",
   "id": "5a80fd59-dc25-4af5-b887-574a68e2fd78",
   "metadata": {},
   "source": [
    "### 🔢 Objective:\n",
    "Analyze frequency, most common values, and proportions for categorical columns.\n",
    "\n",
    "### 📅 Tasks:\n",
    "- Count frequencies and mode for categories\n",
    "- Calculate proportions\n",
    "- Group by categories to explore relationships"
   ]
  },
  {
   "cell_type": "code",
   "execution_count": 17,
   "id": "f102fa5e-9bd7-4a16-b64d-d2f4372438d7",
   "metadata": {},
   "outputs": [
    {
     "name": "stdout",
     "output_type": "stream",
     "text": [
      "\n",
      "Gender distribution:\n",
      " Female    501\n",
      "Male      499\n",
      "Name: Gender, dtype: int64\n"
     ]
    }
   ],
   "source": [
    "# Frequency and mode for categorical columns\n",
    "print(\"\\nGender distribution:\\n\", df['Gender'].value_counts())"
   ]
  },
  {
   "cell_type": "markdown",
   "id": "7ce2af0d-8db4-4d8c-a9be-d7baefeb1ade",
   "metadata": {},
   "source": [
    "> Nearly equal: Female (501), Male (499)"
   ]
  },
  {
   "cell_type": "code",
   "execution_count": 18,
   "id": "706b4347-f69a-4077-b888-9909a09ec1db",
   "metadata": {},
   "outputs": [
    {
     "name": "stdout",
     "output_type": "stream",
     "text": [
      "\n",
      "City distribution (percent):\n",
      " Yangon       34.0\n",
      "Mandalay     33.2\n",
      "Naypyitaw    32.8\n",
      "Name: City, dtype: float64\n"
     ]
    }
   ],
   "source": [
    "print(\"\\nCity distribution (percent):\\n\", df['City'].value_counts(normalize=True) * 100)"
   ]
  },
  {
   "cell_type": "markdown",
   "id": "3edb6e67-cc02-4509-bc86-3b2b4bfc1680",
   "metadata": {},
   "source": [
    "> Yangon has the highest share (~34.5%), followed by Mandalay and Naypyitaw."
   ]
  },
  {
   "cell_type": "code",
   "execution_count": 19,
   "id": "e2042f1b-139b-46f2-b3c1-b7c4016e34e3",
   "metadata": {},
   "outputs": [
    {
     "name": "stdout",
     "output_type": "stream",
     "text": [
      "\n",
      "Payment method mode: Ewallet\n"
     ]
    }
   ],
   "source": [
    "print(\"\\nPayment method mode:\", df['Payment'].mode()[0])"
   ]
  },
  {
   "cell_type": "markdown",
   "id": "c647802f-02b0-47cd-830d-c42556c94d9f",
   "metadata": {},
   "source": [
    "> Most common payment method is Ewallet."
   ]
  },
  {
   "cell_type": "code",
   "execution_count": 20,
   "id": "815c83e1-db9c-40e8-8883-31790b469d45",
   "metadata": {},
   "outputs": [
    {
     "name": "stdout",
     "output_type": "stream",
     "text": [
      "\n",
      "Average Total per Product Line:\n",
      " ProductLine\n",
      "Electronic accessories    319.632538\n",
      "Fashion accessories       305.089298\n",
      "Food and beverages        322.671517\n",
      "Health and beauty         323.643020\n",
      "Home and lifestyle        336.636956\n",
      "Sports and travel         332.065220\n",
      "Name: Total, dtype: float64\n"
     ]
    }
   ],
   "source": [
    "# Groupby: Avg total per product line\n",
    "print(\"\\nAverage Total per Product Line:\\n\", df.groupby('ProductLine')['Total'].mean())"
   ]
  },
  {
   "cell_type": "markdown",
   "id": "c806fae5-2a28-4d05-97d1-0f36908e9eaa",
   "metadata": {},
   "source": [
    "> `Food and beverages` and `Health and beauty` have the highest average totals."
   ]
  },
  {
   "cell_type": "code",
   "execution_count": 21,
   "id": "7fce08fe-0140-4049-b941-41e7dee4d848",
   "metadata": {},
   "outputs": [
    {
     "name": "stdout",
     "output_type": "stream",
     "text": [
      "\n",
      "Average Total by Gender:\n",
      " Gender\n",
      "Female    335.095659\n",
      "Male      310.789226\n",
      "Name: Total, dtype: float64\n"
     ]
    }
   ],
   "source": [
    "# Groupby: Avg total by gender\n",
    "print(\"\\nAverage Total by Gender:\\n\", df.groupby('Gender')['Total'].mean())"
   ]
  },
  {
   "cell_type": "markdown",
   "id": "38d8f019-ea37-4de0-82af-db80d301f8ef",
   "metadata": {},
   "source": [
    "> Males spend slightly more on average (~323.4 vs 322.89)"
   ]
  },
  {
   "cell_type": "markdown",
   "id": "76e48d1d-c286-48c8-b66a-4ba702a679b5",
   "metadata": {},
   "source": [
    "> Gender distribution is balanced, and product line revenue insights can guide promotions.\n",
    "> Knowing preferred payment methods helps target system improvements or marketing."
   ]
  },
  {
   "cell_type": "markdown",
   "id": "04f26aa1-22a7-4a15-9382-e6a9e607f676",
   "metadata": {},
   "source": [
    "---\n",
    "## 🔍 Section E: Pattern Hunting"
   ]
  },
  {
   "cell_type": "markdown",
   "id": "5442f865-8ae8-490b-a029-1f0cfa25f979",
   "metadata": {},
   "source": [
    "### 🔢 Objective:\n",
    "Identify potential outliers, trends, and actionable patterns.\n",
    "\n",
    "### 📅 Tasks:\n",
    "- Find extreme values and filter data\n",
    "- Compare stats across categories"
   ]
  },
  {
   "cell_type": "code",
   "execution_count": 24,
   "id": "d17d8bcf-a6e5-47d7-8f47-0abb5dc3be25",
   "metadata": {},
   "outputs": [
    {
     "name": "stdout",
     "output_type": "stream",
     "text": [
      "\n",
      "Top 5 Transactions by Total:\n",
      "\n"
     ]
    },
    {
     "data": {
      "text/html": [
       "<div>\n",
       "<style scoped>\n",
       "    .dataframe tbody tr th:only-of-type {\n",
       "        vertical-align: middle;\n",
       "    }\n",
       "\n",
       "    .dataframe tbody tr th {\n",
       "        vertical-align: top;\n",
       "    }\n",
       "\n",
       "    .dataframe thead th {\n",
       "        text-align: right;\n",
       "    }\n",
       "</style>\n",
       "<table border=\"1\" class=\"dataframe\">\n",
       "  <thead>\n",
       "    <tr style=\"text-align: right;\">\n",
       "      <th></th>\n",
       "      <th>Invoice ID</th>\n",
       "      <th>Branch</th>\n",
       "      <th>City</th>\n",
       "      <th>Customer type</th>\n",
       "      <th>Gender</th>\n",
       "      <th>ProductLine</th>\n",
       "      <th>Unit price</th>\n",
       "      <th>Quantity</th>\n",
       "      <th>Tax 5%</th>\n",
       "      <th>Total</th>\n",
       "      <th>Date</th>\n",
       "      <th>Time</th>\n",
       "      <th>Payment</th>\n",
       "      <th>cogs</th>\n",
       "      <th>gross margin percentage</th>\n",
       "      <th>gross income</th>\n",
       "      <th>Rating</th>\n",
       "    </tr>\n",
       "  </thead>\n",
       "  <tbody>\n",
       "    <tr>\n",
       "      <th>350</th>\n",
       "      <td>860-79-0874</td>\n",
       "      <td>C</td>\n",
       "      <td>Naypyitaw</td>\n",
       "      <td>Member</td>\n",
       "      <td>Female</td>\n",
       "      <td>Fashion accessories</td>\n",
       "      <td>99.30</td>\n",
       "      <td>10</td>\n",
       "      <td>49.65</td>\n",
       "      <td>1042.65</td>\n",
       "      <td>2019-02-15</td>\n",
       "      <td>14:53</td>\n",
       "      <td>Credit card</td>\n",
       "      <td>993.0</td>\n",
       "      <td>4.761905</td>\n",
       "      <td>49.65</td>\n",
       "      <td>6.6</td>\n",
       "    </tr>\n",
       "    <tr>\n",
       "      <th>167</th>\n",
       "      <td>687-47-8271</td>\n",
       "      <td>A</td>\n",
       "      <td>Yangon</td>\n",
       "      <td>Normal</td>\n",
       "      <td>Male</td>\n",
       "      <td>Fashion accessories</td>\n",
       "      <td>98.98</td>\n",
       "      <td>10</td>\n",
       "      <td>49.49</td>\n",
       "      <td>1039.29</td>\n",
       "      <td>2019-02-08</td>\n",
       "      <td>16:20</td>\n",
       "      <td>Credit card</td>\n",
       "      <td>989.8</td>\n",
       "      <td>4.761905</td>\n",
       "      <td>49.49</td>\n",
       "      <td>8.7</td>\n",
       "    </tr>\n",
       "    <tr>\n",
       "      <th>557</th>\n",
       "      <td>283-26-5248</td>\n",
       "      <td>C</td>\n",
       "      <td>Naypyitaw</td>\n",
       "      <td>Member</td>\n",
       "      <td>Female</td>\n",
       "      <td>Food and beverages</td>\n",
       "      <td>98.52</td>\n",
       "      <td>10</td>\n",
       "      <td>49.26</td>\n",
       "      <td>1034.46</td>\n",
       "      <td>2019-01-30</td>\n",
       "      <td>20:23</td>\n",
       "      <td>Ewallet</td>\n",
       "      <td>985.2</td>\n",
       "      <td>4.761905</td>\n",
       "      <td>49.26</td>\n",
       "      <td>4.5</td>\n",
       "    </tr>\n",
       "    <tr>\n",
       "      <th>699</th>\n",
       "      <td>751-41-9720</td>\n",
       "      <td>C</td>\n",
       "      <td>Naypyitaw</td>\n",
       "      <td>Normal</td>\n",
       "      <td>Male</td>\n",
       "      <td>Home and lifestyle</td>\n",
       "      <td>97.50</td>\n",
       "      <td>10</td>\n",
       "      <td>48.75</td>\n",
       "      <td>1023.75</td>\n",
       "      <td>2019-01-12</td>\n",
       "      <td>16:18</td>\n",
       "      <td>Ewallet</td>\n",
       "      <td>975.0</td>\n",
       "      <td>4.761905</td>\n",
       "      <td>48.75</td>\n",
       "      <td>8.0</td>\n",
       "    </tr>\n",
       "    <tr>\n",
       "      <th>996</th>\n",
       "      <td>303-96-2227</td>\n",
       "      <td>B</td>\n",
       "      <td>Mandalay</td>\n",
       "      <td>Normal</td>\n",
       "      <td>Female</td>\n",
       "      <td>Home and lifestyle</td>\n",
       "      <td>97.38</td>\n",
       "      <td>10</td>\n",
       "      <td>48.69</td>\n",
       "      <td>1022.49</td>\n",
       "      <td>2019-03-02</td>\n",
       "      <td>17:16</td>\n",
       "      <td>Ewallet</td>\n",
       "      <td>973.8</td>\n",
       "      <td>4.761905</td>\n",
       "      <td>48.69</td>\n",
       "      <td>4.4</td>\n",
       "    </tr>\n",
       "  </tbody>\n",
       "</table>\n",
       "</div>"
      ],
      "text/plain": [
       "      Invoice ID Branch       City Customer type  Gender          ProductLine  \\\n",
       "350  860-79-0874      C  Naypyitaw        Member  Female  Fashion accessories   \n",
       "167  687-47-8271      A     Yangon        Normal    Male  Fashion accessories   \n",
       "557  283-26-5248      C  Naypyitaw        Member  Female   Food and beverages   \n",
       "699  751-41-9720      C  Naypyitaw        Normal    Male   Home and lifestyle   \n",
       "996  303-96-2227      B   Mandalay        Normal  Female   Home and lifestyle   \n",
       "\n",
       "     Unit price  Quantity  Tax 5%    Total       Date   Time      Payment  \\\n",
       "350       99.30        10   49.65  1042.65 2019-02-15  14:53  Credit card   \n",
       "167       98.98        10   49.49  1039.29 2019-02-08  16:20  Credit card   \n",
       "557       98.52        10   49.26  1034.46 2019-01-30  20:23      Ewallet   \n",
       "699       97.50        10   48.75  1023.75 2019-01-12  16:18      Ewallet   \n",
       "996       97.38        10   48.69  1022.49 2019-03-02  17:16      Ewallet   \n",
       "\n",
       "      cogs  gross margin percentage  gross income  Rating  \n",
       "350  993.0                 4.761905         49.65     6.6  \n",
       "167  989.8                 4.761905         49.49     8.7  \n",
       "557  985.2                 4.761905         49.26     4.5  \n",
       "699  975.0                 4.761905         48.75     8.0  \n",
       "996  973.8                 4.761905         48.69     4.4  "
      ]
     },
     "execution_count": 24,
     "metadata": {},
     "output_type": "execute_result"
    }
   ],
   "source": [
    "# Top 5 transactions by Total\n",
    "print(\"\\nTop 5 Transactions by Total:\\n\")\n",
    "df.sort_values('Total', ascending=False).head()"
   ]
  },
  {
   "cell_type": "markdown",
   "id": "71fc0b20-6eb5-4388-9fcc-19af79ea7060",
   "metadata": {},
   "source": [
    "> Top transaction is over 1042, significantly higher than average."
   ]
  },
  {
   "cell_type": "code",
   "execution_count": 26,
   "id": "12ae757a-70bc-4622-b126-761804c00631",
   "metadata": {},
   "outputs": [
    {
     "name": "stdout",
     "output_type": "stream",
     "text": [
      "\n",
      "Low Rating Transactions:\n",
      "\n"
     ]
    },
    {
     "data": {
      "text/html": [
       "<div>\n",
       "<style scoped>\n",
       "    .dataframe tbody tr th:only-of-type {\n",
       "        vertical-align: middle;\n",
       "    }\n",
       "\n",
       "    .dataframe tbody tr th {\n",
       "        vertical-align: top;\n",
       "    }\n",
       "\n",
       "    .dataframe thead th {\n",
       "        text-align: right;\n",
       "    }\n",
       "</style>\n",
       "<table border=\"1\" class=\"dataframe\">\n",
       "  <thead>\n",
       "    <tr style=\"text-align: right;\">\n",
       "      <th></th>\n",
       "      <th>Invoice ID</th>\n",
       "      <th>Branch</th>\n",
       "      <th>City</th>\n",
       "      <th>Customer type</th>\n",
       "      <th>Gender</th>\n",
       "      <th>ProductLine</th>\n",
       "      <th>Unit price</th>\n",
       "      <th>Quantity</th>\n",
       "      <th>Tax 5%</th>\n",
       "      <th>Total</th>\n",
       "      <th>Date</th>\n",
       "      <th>Time</th>\n",
       "      <th>Payment</th>\n",
       "      <th>cogs</th>\n",
       "      <th>gross margin percentage</th>\n",
       "      <th>gross income</th>\n",
       "      <th>Rating</th>\n",
       "    </tr>\n",
       "  </thead>\n",
       "  <tbody>\n",
       "    <tr>\n",
       "      <th>5</th>\n",
       "      <td>699-14-3026</td>\n",
       "      <td>C</td>\n",
       "      <td>Naypyitaw</td>\n",
       "      <td>Normal</td>\n",
       "      <td>Male</td>\n",
       "      <td>Electronic accessories</td>\n",
       "      <td>85.39</td>\n",
       "      <td>7</td>\n",
       "      <td>29.8865</td>\n",
       "      <td>627.6165</td>\n",
       "      <td>2019-03-25</td>\n",
       "      <td>18:30</td>\n",
       "      <td>Ewallet</td>\n",
       "      <td>597.73</td>\n",
       "      <td>4.761905</td>\n",
       "      <td>29.8865</td>\n",
       "      <td>4.1</td>\n",
       "    </tr>\n",
       "    <tr>\n",
       "      <th>10</th>\n",
       "      <td>351-62-0822</td>\n",
       "      <td>B</td>\n",
       "      <td>Mandalay</td>\n",
       "      <td>Member</td>\n",
       "      <td>Female</td>\n",
       "      <td>Fashion accessories</td>\n",
       "      <td>14.48</td>\n",
       "      <td>4</td>\n",
       "      <td>2.8960</td>\n",
       "      <td>60.8160</td>\n",
       "      <td>2019-02-06</td>\n",
       "      <td>18:07</td>\n",
       "      <td>Ewallet</td>\n",
       "      <td>57.92</td>\n",
       "      <td>4.761905</td>\n",
       "      <td>2.8960</td>\n",
       "      <td>4.5</td>\n",
       "    </tr>\n",
       "    <tr>\n",
       "      <th>15</th>\n",
       "      <td>299-46-1805</td>\n",
       "      <td>B</td>\n",
       "      <td>Mandalay</td>\n",
       "      <td>Member</td>\n",
       "      <td>Female</td>\n",
       "      <td>Sports and travel</td>\n",
       "      <td>93.72</td>\n",
       "      <td>6</td>\n",
       "      <td>28.1160</td>\n",
       "      <td>590.4360</td>\n",
       "      <td>2019-01-15</td>\n",
       "      <td>16:19</td>\n",
       "      <td>Cash</td>\n",
       "      <td>562.32</td>\n",
       "      <td>4.761905</td>\n",
       "      <td>28.1160</td>\n",
       "      <td>4.5</td>\n",
       "    </tr>\n",
       "    <tr>\n",
       "      <th>16</th>\n",
       "      <td>656-95-9349</td>\n",
       "      <td>A</td>\n",
       "      <td>Yangon</td>\n",
       "      <td>Member</td>\n",
       "      <td>Female</td>\n",
       "      <td>Health and beauty</td>\n",
       "      <td>68.93</td>\n",
       "      <td>7</td>\n",
       "      <td>24.1255</td>\n",
       "      <td>506.6355</td>\n",
       "      <td>2019-03-11</td>\n",
       "      <td>11:03</td>\n",
       "      <td>Credit card</td>\n",
       "      <td>482.51</td>\n",
       "      <td>4.761905</td>\n",
       "      <td>24.1255</td>\n",
       "      <td>4.6</td>\n",
       "    </tr>\n",
       "    <tr>\n",
       "      <th>19</th>\n",
       "      <td>319-50-3348</td>\n",
       "      <td>B</td>\n",
       "      <td>Mandalay</td>\n",
       "      <td>Normal</td>\n",
       "      <td>Female</td>\n",
       "      <td>Home and lifestyle</td>\n",
       "      <td>40.30</td>\n",
       "      <td>2</td>\n",
       "      <td>4.0300</td>\n",
       "      <td>84.6300</td>\n",
       "      <td>2019-03-11</td>\n",
       "      <td>15:30</td>\n",
       "      <td>Ewallet</td>\n",
       "      <td>80.60</td>\n",
       "      <td>4.761905</td>\n",
       "      <td>4.0300</td>\n",
       "      <td>4.4</td>\n",
       "    </tr>\n",
       "  </tbody>\n",
       "</table>\n",
       "</div>"
      ],
      "text/plain": [
       "     Invoice ID Branch       City Customer type  Gender  \\\n",
       "5   699-14-3026      C  Naypyitaw        Normal    Male   \n",
       "10  351-62-0822      B   Mandalay        Member  Female   \n",
       "15  299-46-1805      B   Mandalay        Member  Female   \n",
       "16  656-95-9349      A     Yangon        Member  Female   \n",
       "19  319-50-3348      B   Mandalay        Normal  Female   \n",
       "\n",
       "               ProductLine  Unit price  Quantity   Tax 5%     Total  \\\n",
       "5   Electronic accessories       85.39         7  29.8865  627.6165   \n",
       "10     Fashion accessories       14.48         4   2.8960   60.8160   \n",
       "15       Sports and travel       93.72         6  28.1160  590.4360   \n",
       "16       Health and beauty       68.93         7  24.1255  506.6355   \n",
       "19      Home and lifestyle       40.30         2   4.0300   84.6300   \n",
       "\n",
       "         Date   Time      Payment    cogs  gross margin percentage  \\\n",
       "5  2019-03-25  18:30      Ewallet  597.73                 4.761905   \n",
       "10 2019-02-06  18:07      Ewallet   57.92                 4.761905   \n",
       "15 2019-01-15  16:19         Cash  562.32                 4.761905   \n",
       "16 2019-03-11  11:03  Credit card  482.51                 4.761905   \n",
       "19 2019-03-11  15:30      Ewallet   80.60                 4.761905   \n",
       "\n",
       "    gross income  Rating  \n",
       "5        29.8865     4.1  \n",
       "10        2.8960     4.5  \n",
       "15       28.1160     4.5  \n",
       "16       24.1255     4.6  \n",
       "19        4.0300     4.4  "
      ]
     },
     "execution_count": 26,
     "metadata": {},
     "output_type": "execute_result"
    }
   ],
   "source": [
    "# Low rating rows (< 5)\n",
    "low_ratings = df[df['Rating'] < 5]\n",
    "print(\"\\nLow Rating Transactions:\\n\")\n",
    "low_ratings.head()"
   ]
  },
  {
   "cell_type": "markdown",
   "id": "3b6b9cb1-ac33-4ef0-bf4d-c41ccffdb0c8",
   "metadata": {},
   "source": [
    "> Few customers gave ratings under 5. Worth exploring potential causes."
   ]
  },
  {
   "cell_type": "code",
   "execution_count": 29,
   "id": "43035347-8124-474c-88f9-c3351408b5b0",
   "metadata": {},
   "outputs": [
    {
     "name": "stdout",
     "output_type": "stream",
     "text": [
      "\n",
      "Yangon Sales Sample:\n",
      "\n"
     ]
    },
    {
     "data": {
      "text/html": [
       "<div>\n",
       "<style scoped>\n",
       "    .dataframe tbody tr th:only-of-type {\n",
       "        vertical-align: middle;\n",
       "    }\n",
       "\n",
       "    .dataframe tbody tr th {\n",
       "        vertical-align: top;\n",
       "    }\n",
       "\n",
       "    .dataframe thead th {\n",
       "        text-align: right;\n",
       "    }\n",
       "</style>\n",
       "<table border=\"1\" class=\"dataframe\">\n",
       "  <thead>\n",
       "    <tr style=\"text-align: right;\">\n",
       "      <th></th>\n",
       "      <th>Invoice ID</th>\n",
       "      <th>Branch</th>\n",
       "      <th>City</th>\n",
       "      <th>Customer type</th>\n",
       "      <th>Gender</th>\n",
       "      <th>ProductLine</th>\n",
       "      <th>Unit price</th>\n",
       "      <th>Quantity</th>\n",
       "      <th>Tax 5%</th>\n",
       "      <th>Total</th>\n",
       "      <th>Date</th>\n",
       "      <th>Time</th>\n",
       "      <th>Payment</th>\n",
       "      <th>cogs</th>\n",
       "      <th>gross margin percentage</th>\n",
       "      <th>gross income</th>\n",
       "      <th>Rating</th>\n",
       "    </tr>\n",
       "  </thead>\n",
       "  <tbody>\n",
       "    <tr>\n",
       "      <th>0</th>\n",
       "      <td>750-67-8428</td>\n",
       "      <td>A</td>\n",
       "      <td>Yangon</td>\n",
       "      <td>Member</td>\n",
       "      <td>Female</td>\n",
       "      <td>Health and beauty</td>\n",
       "      <td>74.69</td>\n",
       "      <td>7</td>\n",
       "      <td>26.1415</td>\n",
       "      <td>548.9715</td>\n",
       "      <td>2019-01-05</td>\n",
       "      <td>13:08</td>\n",
       "      <td>Ewallet</td>\n",
       "      <td>522.83</td>\n",
       "      <td>4.761905</td>\n",
       "      <td>26.1415</td>\n",
       "      <td>9.1</td>\n",
       "    </tr>\n",
       "    <tr>\n",
       "      <th>2</th>\n",
       "      <td>631-41-3108</td>\n",
       "      <td>A</td>\n",
       "      <td>Yangon</td>\n",
       "      <td>Normal</td>\n",
       "      <td>Male</td>\n",
       "      <td>Home and lifestyle</td>\n",
       "      <td>46.33</td>\n",
       "      <td>7</td>\n",
       "      <td>16.2155</td>\n",
       "      <td>340.5255</td>\n",
       "      <td>2019-03-03</td>\n",
       "      <td>13:23</td>\n",
       "      <td>Credit card</td>\n",
       "      <td>324.31</td>\n",
       "      <td>4.761905</td>\n",
       "      <td>16.2155</td>\n",
       "      <td>7.4</td>\n",
       "    </tr>\n",
       "    <tr>\n",
       "      <th>3</th>\n",
       "      <td>123-19-1176</td>\n",
       "      <td>A</td>\n",
       "      <td>Yangon</td>\n",
       "      <td>Member</td>\n",
       "      <td>Male</td>\n",
       "      <td>Health and beauty</td>\n",
       "      <td>58.22</td>\n",
       "      <td>8</td>\n",
       "      <td>23.2880</td>\n",
       "      <td>489.0480</td>\n",
       "      <td>2019-01-27</td>\n",
       "      <td>20:33</td>\n",
       "      <td>Ewallet</td>\n",
       "      <td>465.76</td>\n",
       "      <td>4.761905</td>\n",
       "      <td>23.2880</td>\n",
       "      <td>8.4</td>\n",
       "    </tr>\n",
       "    <tr>\n",
       "      <th>4</th>\n",
       "      <td>373-73-7910</td>\n",
       "      <td>A</td>\n",
       "      <td>Yangon</td>\n",
       "      <td>Normal</td>\n",
       "      <td>Male</td>\n",
       "      <td>Sports and travel</td>\n",
       "      <td>86.31</td>\n",
       "      <td>7</td>\n",
       "      <td>30.2085</td>\n",
       "      <td>634.3785</td>\n",
       "      <td>2019-02-08</td>\n",
       "      <td>10:37</td>\n",
       "      <td>Ewallet</td>\n",
       "      <td>604.17</td>\n",
       "      <td>4.761905</td>\n",
       "      <td>30.2085</td>\n",
       "      <td>5.3</td>\n",
       "    </tr>\n",
       "    <tr>\n",
       "      <th>6</th>\n",
       "      <td>355-53-5943</td>\n",
       "      <td>A</td>\n",
       "      <td>Yangon</td>\n",
       "      <td>Member</td>\n",
       "      <td>Female</td>\n",
       "      <td>Electronic accessories</td>\n",
       "      <td>68.84</td>\n",
       "      <td>6</td>\n",
       "      <td>20.6520</td>\n",
       "      <td>433.6920</td>\n",
       "      <td>2019-02-25</td>\n",
       "      <td>14:36</td>\n",
       "      <td>Ewallet</td>\n",
       "      <td>413.04</td>\n",
       "      <td>4.761905</td>\n",
       "      <td>20.6520</td>\n",
       "      <td>5.8</td>\n",
       "    </tr>\n",
       "  </tbody>\n",
       "</table>\n",
       "</div>"
      ],
      "text/plain": [
       "    Invoice ID Branch    City Customer type  Gender             ProductLine  \\\n",
       "0  750-67-8428      A  Yangon        Member  Female       Health and beauty   \n",
       "2  631-41-3108      A  Yangon        Normal    Male      Home and lifestyle   \n",
       "3  123-19-1176      A  Yangon        Member    Male       Health and beauty   \n",
       "4  373-73-7910      A  Yangon        Normal    Male       Sports and travel   \n",
       "6  355-53-5943      A  Yangon        Member  Female  Electronic accessories   \n",
       "\n",
       "   Unit price  Quantity   Tax 5%     Total       Date   Time      Payment  \\\n",
       "0       74.69         7  26.1415  548.9715 2019-01-05  13:08      Ewallet   \n",
       "2       46.33         7  16.2155  340.5255 2019-03-03  13:23  Credit card   \n",
       "3       58.22         8  23.2880  489.0480 2019-01-27  20:33      Ewallet   \n",
       "4       86.31         7  30.2085  634.3785 2019-02-08  10:37      Ewallet   \n",
       "6       68.84         6  20.6520  433.6920 2019-02-25  14:36      Ewallet   \n",
       "\n",
       "     cogs  gross margin percentage  gross income  Rating  \n",
       "0  522.83                 4.761905       26.1415     9.1  \n",
       "2  324.31                 4.761905       16.2155     7.4  \n",
       "3  465.76                 4.761905       23.2880     8.4  \n",
       "4  604.17                 4.761905       30.2085     5.3  \n",
       "6  413.04                 4.761905       20.6520     5.8  "
      ]
     },
     "execution_count": 29,
     "metadata": {},
     "output_type": "execute_result"
    }
   ],
   "source": [
    "# Sales in Yangon\n",
    "yangon_sales = df[df['City'] == 'Yangon']\n",
    "print(\"\\nYangon Sales Sample:\\n\")\n",
    "yangon_sales.head()"
   ]
  },
  {
   "cell_type": "markdown",
   "id": "ae4e9eb7-53db-41be-bd48-df80a6a885ed",
   "metadata": {},
   "source": [
    "> Yangon has high representation; useful for regional comparisons."
   ]
  },
  {
   "cell_type": "code",
   "execution_count": 30,
   "id": "26183fe0-57d9-4f92-a7d4-4ef5aa334170",
   "metadata": {},
   "outputs": [
    {
     "name": "stdout",
     "output_type": "stream",
     "text": [
      "\n",
      "Average Total by Payment Method:\n",
      " Payment\n",
      "Cash           326.181890\n",
      "Credit card    324.009878\n",
      "Ewallet        318.820600\n",
      "Name: Total, dtype: float64\n"
     ]
    }
   ],
   "source": [
    "# Compare Total by Payment type\n",
    "print(\"\\nAverage Total by Payment Method:\\n\", df.groupby('Payment')['Total'].mean())"
   ]
  },
  {
   "cell_type": "markdown",
   "id": "d7f953e6-73eb-42ba-97af-57cbaadeb7af",
   "metadata": {},
   "source": [
    "> Ewallet users tend to spend more (~ 337.3), followed by Credit card (~ 316.7)"
   ]
  },
  {
   "cell_type": "code",
   "execution_count": 31,
   "id": "48a42860-fc2d-4998-8dd5-65c24bffa529",
   "metadata": {},
   "outputs": [
    {
     "name": "stdout",
     "output_type": "stream",
     "text": [
      "\n",
      "Average Rating per Product Line:\n",
      " ProductLine\n",
      "Electronic accessories    6.924706\n",
      "Fashion accessories       7.029213\n",
      "Food and beverages        7.113218\n",
      "Health and beauty         7.003289\n",
      "Home and lifestyle        6.837500\n",
      "Sports and travel         6.916265\n",
      "Name: Rating, dtype: float64\n"
     ]
    }
   ],
   "source": [
    "# Bonus: Rating per Product Line\n",
    "print(\"\\nAverage Rating per Product Line:\\n\", df.groupby('ProductLine')['Rating'].mean())"
   ]
  },
  {
   "cell_type": "markdown",
   "id": "1f4dd0a6-b5e5-497a-8dc7-bfb2c67dd223",
   "metadata": {},
   "source": [
    "> Health and beauty products receive the highest ratings."
   ]
  },
  {
   "cell_type": "markdown",
   "id": "7a6ec28f-bab2-4847-8ba7-720245ad3ad4",
   "metadata": {},
   "source": [
    "> There are significant insights by city and payment method. High spenders and high ratings often cluster in specific product lines.\n",
    "> Promotions could be optimized using product and location preferences."
   ]
  },
  {
   "cell_type": "markdown",
   "id": "3e4c0658-cc0d-40b1-afdc-537281ce5bec",
   "metadata": {},
   "source": [
    "---\n",
    "## ✅ Conclusion"
   ]
  },
  {
   "cell_type": "markdown",
   "id": "654b9e77-3ed4-4e34-a988-7507e04916d4",
   "metadata": {},
   "source": [
    "### 📊 Summary of This Notebook\n",
    "- Explored the structure and content of the Supermarket Sales dataset\n",
    "- Verified and cleaned the data (no missing or duplicate values)\n",
    "- Used pandas to compute key descriptive statistics\n",
    "- Analyzed customer behavior across gender, product lines, cities, and payment methods\n",
    "- Identified trends and high-value patterns for business insights\n",
    "\n",
    "📤 Submit your notebook to ILIAS as: `04_Firstname_Lastname_EDA.ipynb`\n",
    "\n",
    "🎉 Great job exploring your first dataset like a true data analyst!"
   ]
  },
  {
   "cell_type": "markdown",
   "id": "a93877b0-c979-47d5-91bc-1840134be1d8",
   "metadata": {},
   "source": [
    "---"
   ]
  }
 ],
 "metadata": {
  "kernelspec": {
   "display_name": "Python 3 (ipykernel)",
   "language": "python",
   "name": "python3"
  },
  "language_info": {
   "codemirror_mode": {
    "name": "ipython",
    "version": 3
   },
   "file_extension": ".py",
   "mimetype": "text/x-python",
   "name": "python",
   "nbconvert_exporter": "python",
   "pygments_lexer": "ipython3",
   "version": "3.9.12"
  }
 },
 "nbformat": 4,
 "nbformat_minor": 5
}
